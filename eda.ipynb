{
 "cells": [
  {
   "cell_type": "markdown",
   "metadata": {},
   "source": [
    "things to check: \n",
    "number of lemma\n",
    "number of stop words\n",
    "average post length by words and characters and sentences\n",
    "average comment length by words and characters and sentences\n",
    "average number of comments per post\n",
    "post and comment density with respect to time\n",
    "average word length\n",
    "average sentence length\n",
    "lexile levels\n",
    "most common words\n",
    "posts per link flair css class"
   ]
  },
  {
   "cell_type": "code",
   "execution_count": 128,
   "metadata": {},
   "outputs": [],
   "source": [
    "import spacy\n",
    "import pandas as pd\n",
    "import en_core_web_sm\n",
    "import matplotlib.pyplot as plt\n",
    "import re\n",
    "from scipy import stats\n",
    "from nltk.corpus import stopwords\n",
    "from sklearn.model_selection import train_test_split, GridSearchCV\n",
    "from sklearn.pipeline import Pipeline\n",
    "from sklearn.naive_bayes import MultinomialNB\n",
    "from sklearn.ensemble import GradientBoostingClassifier, AdaBoostClassifier, VotingClassifier\n",
    "from sklearn.linear_model import LogisticRegression, LogisticRegressionCV\n",
    "from sklearn.tree import DecisionTreeClassifier\n",
    "from sklearn.ensemble import BaggingClassifier\n",
    "from sklearn.ensemble import RandomForestClassifier, ExtraTreesClassifier\n",
    "from sklearn.preprocessing import StandardScaler\n",
    "from sklearn.feature_extraction.text import CountVectorizer, TfidfVectorizer\n",
    "from sklearn.metrics import confusion_matrix, plot_confusion_matrix\n",
    "from sklearn.tree import plot_tree\n",
    "\n",
    "pd.options.display.max_colwidth=500\n",
    "elif_comments = pd.read_csv('./dataframes/elif_comments')\n",
    "elip_comments = pd.read_csv('./dataframes/elip_comments')"
   ]
  },
  {
   "cell_type": "code",
   "execution_count": 129,
   "metadata": {},
   "outputs": [],
   "source": [
    "nlp = en_core_web_sm.load()"
   ]
  },
  {
   "cell_type": "markdown",
   "metadata": {},
   "source": [
    "# Some Cleaning"
   ]
  },
  {
   "cell_type": "code",
   "execution_count": 130,
   "metadata": {},
   "outputs": [
    {
     "data": {
      "text/plain": [
       "((1638, 9), (1547, 9))"
      ]
     },
     "execution_count": 130,
     "metadata": {},
     "output_type": "execute_result"
    }
   ],
   "source": [
    "# filters to comments with a nested level of 1\n",
    "elif_comments = elif_comments[elif_comments['parent_id'].str.startswith('t3_')]\n",
    "elip_comments = elip_comments[elip_comments['parent_id'].str.startswith('t3_')]\n",
    "\n",
    "elif_comments.shape, elip_comments.shape"
   ]
  },
  {
   "cell_type": "code",
   "execution_count": 131,
   "metadata": {},
   "outputs": [
    {
     "data": {
      "text/plain": [
       "((1638, 9), (1545, 9))"
      ]
     },
     "execution_count": 131,
     "metadata": {},
     "output_type": "execute_result"
    }
   ],
   "source": [
    "# filters out some racial and homorphobic slurs\n",
    "elip_comments = elip_comments[elip_comments['body'].map(lambda s: 'faggot' not in s.lower())]\n",
    "elif_comments = elif_comments[elif_comments['body'].map(lambda s: 'faggot' not in s.lower())]\n",
    "elip_comments = elip_comments[elip_comments['body'].map(lambda s: 'nigger' not in s.lower())]\n",
    "elif_comments = elif_comments[elif_comments['body'].map(lambda s: 'nigger' not in s.lower())]\n",
    "\n",
    "elif_comments.shape, elip_comments.shape"
   ]
  },
  {
   "cell_type": "code",
   "execution_count": 132,
   "metadata": {},
   "outputs": [],
   "source": [
    "# given dataframe return dataframe with comment word count\n",
    "def word_count(df):\n",
    "    df['word_count'] = df['body'].map(lambda s: len(s.split(' ')))\n",
    "    return df\n",
    "\n",
    "elif_comments = word_count(elif_comments)\n",
    "elip_comments = word_count(elip_comments)"
   ]
  },
  {
   "cell_type": "code",
   "execution_count": 133,
   "metadata": {},
   "outputs": [
    {
     "data": {
      "text/plain": [
       "((1313, 10), (1232, 10))"
      ]
     },
     "execution_count": 133,
     "metadata": {},
     "output_type": "execute_result"
    }
   ],
   "source": [
    "# removes posts of fewer than 5 words\n",
    "elif_comments = elif_comments[elif_comments['word_count'] >= 5]\n",
    "elip_comments = elip_comments[elip_comments['word_count'] >= 5]\n",
    "\n",
    "elif_comments.shape, elip_comments.shape"
   ]
  },
  {
   "cell_type": "code",
   "execution_count": 134,
   "metadata": {},
   "outputs": [
    {
     "data": {
      "text/plain": [
       "((1152, 10), (1232, 10))"
      ]
     },
     "execution_count": 134,
     "metadata": {},
     "output_type": "execute_result"
    }
   ],
   "source": [
    "# filters out posts made by the automoderator\n",
    "elif_comments = elif_comments[elif_comments['author'] != 'AutoModerator']\n",
    "\n",
    "elif_comments.shape, elip_comments.shape"
   ]
  },
  {
   "cell_type": "code",
   "execution_count": 135,
   "metadata": {},
   "outputs": [],
   "source": [
    "elif_comments = elif_comments[elif_comments['body'].map(lambda s: 'Your submission has been removed' not in s)]"
   ]
  },
  {
   "cell_type": "code",
   "execution_count": 136,
   "metadata": {},
   "outputs": [],
   "source": [
    "# given dataframe return dataframe with comment character count\n",
    "def char_count(df):\n",
    "    df['char_count'] = df['body'].map(len)\n",
    "    return df\n",
    "\n",
    "elif_comments = char_count(elif_comments)\n",
    "elip_comments = char_count(elip_comments)"
   ]
  },
  {
   "cell_type": "code",
   "execution_count": 137,
   "metadata": {},
   "outputs": [],
   "source": [
    "# given dataframe return dataframe with comment sentence count\n",
    "# help from https://stackoverflow.com/questions/4998629/split-string-with-multiple-delimiters-in-python\n",
    "# and here: https://stackoverflow.com/questions/3675144/regex-error-nothing-to-repeat\n",
    "def sentence_count(df):\n",
    "    df['sentence_count'] = [len(re.split('[.] |[?] |[!] ', s)) for s in df['body']]\n",
    "    return df\n",
    "elif_comments = sentence_count(elif_comments)\n",
    "elip_comments = sentence_count(elip_comments) "
   ]
  },
  {
   "cell_type": "code",
   "execution_count": 138,
   "metadata": {},
   "outputs": [],
   "source": [
    "# given dataframe return dataframe with average word length for comments\n",
    "def word_length(df):\n",
    "    word_list = [s.split(' ') for s in df['body']]\n",
    "    return [len(word) for word in word_list].mean()"
   ]
  },
  {
   "cell_type": "code",
   "execution_count": 139,
   "metadata": {},
   "outputs": [],
   "source": [
    "elif_comments['average_word_length'] = elif_comments['char_count'] / elif_comments['word_count']\n",
    "elip_comments['average_word_length'] = elip_comments['char_count'] / elip_comments['word_count']"
   ]
  },
  {
   "cell_type": "code",
   "execution_count": 140,
   "metadata": {},
   "outputs": [],
   "source": [
    "# trimming down to 1000 comments from each subreddit\n",
    "elif_comments = elif_comments.head(1000)\n",
    "elip_comments = elip_comments.head(1000)"
   ]
  },
  {
   "cell_type": "code",
   "execution_count": 141,
   "metadata": {},
   "outputs": [],
   "source": [
    "# not sure if the count vectorizer will automatically strip line breaks\n",
    "\n",
    "elif_comments['body'] = elif_comments['body'].map(lambda s: s.replace('\\n', ' '))\n",
    "elip_comments['body'] = elip_comments['body'].map(lambda s: s.replace('\\n', ' '))"
   ]
  },
  {
   "cell_type": "code",
   "execution_count": 142,
   "metadata": {},
   "outputs": [
    {
     "data": {
      "text/plain": [
       "(2000, 13)"
      ]
     },
     "execution_count": 142,
     "metadata": {},
     "output_type": "execute_result"
    }
   ],
   "source": [
    "# create one dataframe with both elif_columns and elip_columns\n",
    "df = pd.concat([elif_comments, elip_comments])\n",
    "df.shape"
   ]
  },
  {
   "cell_type": "code",
   "execution_count": 143,
   "metadata": {},
   "outputs": [
    {
     "data": {
      "text/plain": [
       "Unnamed: 0              0\n",
       "index                   0\n",
       "subreddit               0\n",
       "body                    0\n",
       "retrieved_on           14\n",
       "created_utc             0\n",
       "parent_id               0\n",
       "id                      0\n",
       "author                  0\n",
       "word_count              0\n",
       "char_count              0\n",
       "sentence_count          0\n",
       "average_word_length     0\n",
       "dtype: int64"
      ]
     },
     "execution_count": 143,
     "metadata": {},
     "output_type": "execute_result"
    }
   ],
   "source": [
    "df.isna().sum()"
   ]
  },
  {
   "cell_type": "code",
   "execution_count": 144,
   "metadata": {
    "scrolled": true
   },
   "outputs": [
    {
     "data": {
      "text/html": [
       "<div>\n",
       "<style scoped>\n",
       "    .dataframe tbody tr th:only-of-type {\n",
       "        vertical-align: middle;\n",
       "    }\n",
       "\n",
       "    .dataframe tbody tr th {\n",
       "        vertical-align: top;\n",
       "    }\n",
       "\n",
       "    .dataframe thead th {\n",
       "        text-align: right;\n",
       "    }\n",
       "</style>\n",
       "<table border=\"1\" class=\"dataframe\">\n",
       "  <thead>\n",
       "    <tr style=\"text-align: right;\">\n",
       "      <th></th>\n",
       "      <th>subreddit</th>\n",
       "      <th>body</th>\n",
       "      <th>word_count</th>\n",
       "      <th>char_count</th>\n",
       "      <th>sentence_count</th>\n",
       "      <th>average_word_length</th>\n",
       "    </tr>\n",
       "  </thead>\n",
       "  <tbody>\n",
       "    <tr>\n",
       "      <th>1</th>\n",
       "      <td>explainlikeimfive</td>\n",
       "      <td>It's because a bit of energy is saved in capacitors (a little kind of battery) in the electronic circuit. When we turn off the electric device the energy saved is used by the device, but the capacitor has a minimum capacity, for this reason is short the time.</td>\n",
       "      <td>48</td>\n",
       "      <td>259</td>\n",
       "      <td>2</td>\n",
       "      <td>5.395833</td>\n",
       "    </tr>\n",
       "    <tr>\n",
       "      <th>5</th>\n",
       "      <td>explainlikeimfive</td>\n",
       "      <td>Some comments handled the compensation aspect. Now for the promotion part, it can depend based on the industry. I work fast food for instance. We have an arrangement with a local charity to get donations from customers, which is then matched by the business. We also give out small coupons for free cheap items, or dollar discounts on combo meals or something. I don’t know if we have a different place that prints those for us, as opposed to the regular compensation cards we hand out, but that’...</td>\n",
       "      <td>110</td>\n",
       "      <td>615</td>\n",
       "      <td>8</td>\n",
       "      <td>5.590909</td>\n",
       "    </tr>\n",
       "    <tr>\n",
       "      <th>10</th>\n",
       "      <td>explainlikeimfive</td>\n",
       "      <td>It's a far right wing conspiracy which was initially proposed on 4chan from a person names \"Qanon\". They gave evidence claiming they are working inside the government about how the democratic party and multiple left/liberal figures purposefuly wanted to take down Trump by all means nescarry because he was a threat to their plans to take over America. Every since then it has evloved into what can only be described as a internet cult with them believing that there is a secret sex trafficking o...</td>\n",
       "      <td>190</td>\n",
       "      <td>1113</td>\n",
       "      <td>6</td>\n",
       "      <td>5.857895</td>\n",
       "    </tr>\n",
       "    <tr>\n",
       "      <th>13</th>\n",
       "      <td>explainlikeimfive</td>\n",
       "      <td>One problem is getting enough oxygen and hydrogen together to make a practicable amount of water to solve a water shortage. If you're transporting them then not only do they tend to take up more space then just transporting water, they're both potentially dangerous substances in their pure, concentrated forms.  Another problem is that in order to combine the two you need energy to do it (burn them). This can also have the nasty side affect of basically creating an explosion so it has to be a...</td>\n",
       "      <td>122</td>\n",
       "      <td>714</td>\n",
       "      <td>3</td>\n",
       "      <td>5.852459</td>\n",
       "    </tr>\n",
       "    <tr>\n",
       "      <th>17</th>\n",
       "      <td>explainlikeimfive</td>\n",
       "      <td>Well the Laws of thermodynamics are also \"just\" a theory, the keyword here being just. In science a theory does not mean the same as the everyday word.   In fact that the theories CAN be disproven is what makes them so valuable. If you talk with a flat earther or an anti vaxer or trump. Nothing you say can disprove them, as your proof is just some conspiracy of planted evidence, 5g networks or fake news trying to undermine them.   Whereas in actual science, if you could show that under some ...</td>\n",
       "      <td>148</td>\n",
       "      <td>861</td>\n",
       "      <td>7</td>\n",
       "      <td>5.817568</td>\n",
       "    </tr>\n",
       "  </tbody>\n",
       "</table>\n",
       "</div>"
      ],
      "text/plain": [
       "            subreddit  \\\n",
       "1   explainlikeimfive   \n",
       "5   explainlikeimfive   \n",
       "10  explainlikeimfive   \n",
       "13  explainlikeimfive   \n",
       "17  explainlikeimfive   \n",
       "\n",
       "                                                                                                                                                                                                                                                                                                                                                                                                                                                                                                                   body  \\\n",
       "1                                                                                                                                                                                                                                                   It's because a bit of energy is saved in capacitors (a little kind of battery) in the electronic circuit. When we turn off the electric device the energy saved is used by the device, but the capacitor has a minimum capacity, for this reason is short the time.   \n",
       "5   Some comments handled the compensation aspect. Now for the promotion part, it can depend based on the industry. I work fast food for instance. We have an arrangement with a local charity to get donations from customers, which is then matched by the business. We also give out small coupons for free cheap items, or dollar discounts on combo meals or something. I don’t know if we have a different place that prints those for us, as opposed to the regular compensation cards we hand out, but that’...   \n",
       "10  It's a far right wing conspiracy which was initially proposed on 4chan from a person names \"Qanon\". They gave evidence claiming they are working inside the government about how the democratic party and multiple left/liberal figures purposefuly wanted to take down Trump by all means nescarry because he was a threat to their plans to take over America. Every since then it has evloved into what can only be described as a internet cult with them believing that there is a secret sex trafficking o...   \n",
       "13  One problem is getting enough oxygen and hydrogen together to make a practicable amount of water to solve a water shortage. If you're transporting them then not only do they tend to take up more space then just transporting water, they're both potentially dangerous substances in their pure, concentrated forms.  Another problem is that in order to combine the two you need energy to do it (burn them). This can also have the nasty side affect of basically creating an explosion so it has to be a...   \n",
       "17  Well the Laws of thermodynamics are also \"just\" a theory, the keyword here being just. In science a theory does not mean the same as the everyday word.   In fact that the theories CAN be disproven is what makes them so valuable. If you talk with a flat earther or an anti vaxer or trump. Nothing you say can disprove them, as your proof is just some conspiracy of planted evidence, 5g networks or fake news trying to undermine them.   Whereas in actual science, if you could show that under some ...   \n",
       "\n",
       "    word_count  char_count  sentence_count  average_word_length  \n",
       "1           48         259               2             5.395833  \n",
       "5          110         615               8             5.590909  \n",
       "10         190        1113               6             5.857895  \n",
       "13         122         714               3             5.852459  \n",
       "17         148         861               7             5.817568  "
      ]
     },
     "execution_count": 144,
     "metadata": {},
     "output_type": "execute_result"
    }
   ],
   "source": [
    "df.drop(columns = ['Unnamed: 0', 'retrieved_on', 'created_utc', 'parent_id', 'id', 'author', 'index'], inplace = True)\n",
    "df.head()"
   ]
  },
  {
   "cell_type": "code",
   "execution_count": 145,
   "metadata": {
    "scrolled": true
   },
   "outputs": [
    {
     "data": {
      "text/html": [
       "<div>\n",
       "<style scoped>\n",
       "    .dataframe tbody tr th:only-of-type {\n",
       "        vertical-align: middle;\n",
       "    }\n",
       "\n",
       "    .dataframe tbody tr th {\n",
       "        vertical-align: top;\n",
       "    }\n",
       "\n",
       "    .dataframe thead th {\n",
       "        text-align: right;\n",
       "    }\n",
       "</style>\n",
       "<table border=\"1\" class=\"dataframe\">\n",
       "  <thead>\n",
       "    <tr style=\"text-align: right;\">\n",
       "      <th></th>\n",
       "      <th>subreddit</th>\n",
       "      <th>body</th>\n",
       "      <th>word_count</th>\n",
       "      <th>char_count</th>\n",
       "      <th>sentence_count</th>\n",
       "      <th>average_word_length</th>\n",
       "    </tr>\n",
       "  </thead>\n",
       "  <tbody>\n",
       "    <tr>\n",
       "      <th>1</th>\n",
       "      <td>explainlikeimfive</td>\n",
       "      <td>It's because a bit of energy is saved in capacitors (a little kind of battery) in the electronic circuit. When we turn off the electric device the energy saved is used by the device, but the capacitor has a minimum capacity, for this reason is short the time.</td>\n",
       "      <td>48</td>\n",
       "      <td>259</td>\n",
       "      <td>2</td>\n",
       "      <td>5.395833</td>\n",
       "    </tr>\n",
       "    <tr>\n",
       "      <th>5</th>\n",
       "      <td>explainlikeimfive</td>\n",
       "      <td>Some comments handled the compensation aspect. Now for the promotion part, it can depend based on the industry. I work fast food for instance. We have an arrangement with a local charity to get donations from customers, which is then matched by the business. We also give out small coupons for free cheap items, or dollar discounts on combo meals or something. I don’t know if we have a different place that prints those for us, as opposed to the regular compensation cards we hand out, but that’...</td>\n",
       "      <td>110</td>\n",
       "      <td>615</td>\n",
       "      <td>8</td>\n",
       "      <td>5.590909</td>\n",
       "    </tr>\n",
       "    <tr>\n",
       "      <th>10</th>\n",
       "      <td>explainlikeimfive</td>\n",
       "      <td>It's a far right wing conspiracy which was initially proposed on 4chan from a person names \"Qanon\". They gave evidence claiming they are working inside the government about how the democratic party and multiple left/liberal figures purposefuly wanted to take down Trump by all means nescarry because he was a threat to their plans to take over America. Every since then it has evloved into what can only be described as a internet cult with them believing that there is a secret sex trafficking o...</td>\n",
       "      <td>190</td>\n",
       "      <td>1113</td>\n",
       "      <td>6</td>\n",
       "      <td>5.857895</td>\n",
       "    </tr>\n",
       "    <tr>\n",
       "      <th>13</th>\n",
       "      <td>explainlikeimfive</td>\n",
       "      <td>One problem is getting enough oxygen and hydrogen together to make a practicable amount of water to solve a water shortage. If you're transporting them then not only do they tend to take up more space then just transporting water, they're both potentially dangerous substances in their pure, concentrated forms.  Another problem is that in order to combine the two you need energy to do it (burn them). This can also have the nasty side affect of basically creating an explosion so it has to be a...</td>\n",
       "      <td>122</td>\n",
       "      <td>714</td>\n",
       "      <td>3</td>\n",
       "      <td>5.852459</td>\n",
       "    </tr>\n",
       "    <tr>\n",
       "      <th>17</th>\n",
       "      <td>explainlikeimfive</td>\n",
       "      <td>Well the Laws of thermodynamics are also \"just\" a theory, the keyword here being just. In science a theory does not mean the same as the everyday word.   In fact that the theories CAN be disproven is what makes them so valuable. If you talk with a flat earther or an anti vaxer or trump. Nothing you say can disprove them, as your proof is just some conspiracy of planted evidence, 5g networks or fake news trying to undermine them.   Whereas in actual science, if you could show that under some ...</td>\n",
       "      <td>148</td>\n",
       "      <td>861</td>\n",
       "      <td>7</td>\n",
       "      <td>5.817568</td>\n",
       "    </tr>\n",
       "  </tbody>\n",
       "</table>\n",
       "</div>"
      ],
      "text/plain": [
       "            subreddit  \\\n",
       "1   explainlikeimfive   \n",
       "5   explainlikeimfive   \n",
       "10  explainlikeimfive   \n",
       "13  explainlikeimfive   \n",
       "17  explainlikeimfive   \n",
       "\n",
       "                                                                                                                                                                                                                                                                                                                                                                                                                                                                                                                   body  \\\n",
       "1                                                                                                                                                                                                                                                   It's because a bit of energy is saved in capacitors (a little kind of battery) in the electronic circuit. When we turn off the electric device the energy saved is used by the device, but the capacitor has a minimum capacity, for this reason is short the time.   \n",
       "5   Some comments handled the compensation aspect. Now for the promotion part, it can depend based on the industry. I work fast food for instance. We have an arrangement with a local charity to get donations from customers, which is then matched by the business. We also give out small coupons for free cheap items, or dollar discounts on combo meals or something. I don’t know if we have a different place that prints those for us, as opposed to the regular compensation cards we hand out, but that’...   \n",
       "10  It's a far right wing conspiracy which was initially proposed on 4chan from a person names \"Qanon\". They gave evidence claiming they are working inside the government about how the democratic party and multiple left/liberal figures purposefuly wanted to take down Trump by all means nescarry because he was a threat to their plans to take over America. Every since then it has evloved into what can only be described as a internet cult with them believing that there is a secret sex trafficking o...   \n",
       "13  One problem is getting enough oxygen and hydrogen together to make a practicable amount of water to solve a water shortage. If you're transporting them then not only do they tend to take up more space then just transporting water, they're both potentially dangerous substances in their pure, concentrated forms.  Another problem is that in order to combine the two you need energy to do it (burn them). This can also have the nasty side affect of basically creating an explosion so it has to be a...   \n",
       "17  Well the Laws of thermodynamics are also \"just\" a theory, the keyword here being just. In science a theory does not mean the same as the everyday word.   In fact that the theories CAN be disproven is what makes them so valuable. If you talk with a flat earther or an anti vaxer or trump. Nothing you say can disprove them, as your proof is just some conspiracy of planted evidence, 5g networks or fake news trying to undermine them.   Whereas in actual science, if you could show that under some ...   \n",
       "\n",
       "    word_count  char_count  sentence_count  average_word_length  \n",
       "1           48         259               2             5.395833  \n",
       "5          110         615               8             5.590909  \n",
       "10         190        1113               6             5.857895  \n",
       "13         122         714               3             5.852459  \n",
       "17         148         861               7             5.817568  "
      ]
     },
     "execution_count": 145,
     "metadata": {},
     "output_type": "execute_result"
    }
   ],
   "source": [
    "\n",
    "df.head()"
   ]
  },
  {
   "cell_type": "code",
   "execution_count": 146,
   "metadata": {
    "scrolled": true
   },
   "outputs": [
    {
     "data": {
      "text/plain": [
       "<matplotlib.axes._subplots.AxesSubplot at 0x7fa1a41649d0>"
      ]
     },
     "execution_count": 146,
     "metadata": {},
     "output_type": "execute_result"
    },
    {
     "data": {
      "image/png": "[encoded data removed]",
      "text/plain": [
       "<Figure size 504x504 with 1 Axes>"
      ]
     },
     "metadata": {
      "needs_background": "light"
     },
     "output_type": "display_data"
    }
   ],
   "source": [
    "df.boxplot('word_count', by = 'subreddit', figsize = (7, 7))"
   ]
  },
  {
   "cell_type": "code",
   "execution_count": 147,
   "metadata": {},
   "outputs": [],
   "source": [
    "colors = {'red', 'blue'}"
   ]
  },
  {
   "cell_type": "code",
   "execution_count": 148,
   "metadata": {
    "scrolled": false
   },
   "outputs": [
    {
     "data": {
      "text/plain": [
       "Text(0.5, 1.0, 'Average Word Count per Comment')"
      ]
     },
     "execution_count": 148,
     "metadata": {},
     "output_type": "execute_result"
    },
    {
     "data": {
      "image/png": "[encoded data removed]",
      "text/plain": [
       "<Figure size 432x288 with 1 Axes>"
      ]
     },
     "metadata": {
      "needs_background": "light"
     },
     "output_type": "display_data"
    }
   ],
   "source": [
    "# compare status lengths by word count\n",
    "plt.bar(['five', 'phd'], \n",
    "        [elif_comments['word_count'].mean(), elip_comments['word_count'].mean()],\n",
    "       color = colors);\n",
    "plt.title('Average Word Count per Comment')"
   ]
  },
  {
   "cell_type": "code",
   "execution_count": 149,
   "metadata": {},
   "outputs": [
    {
     "data": {
      "text/plain": [
       "0.026323573828002475"
      ]
     },
     "execution_count": 149,
     "metadata": {},
     "output_type": "execute_result"
    }
   ],
   "source": [
    "# from GL 4.06\n",
    "# The difference in word count is statistically significant. So is characater count and sentence count\n",
    "stats.ttest_ind(elif_comments['word_count'], elip_comments['word_count'], equal_var = False).pvalue"
   ]
  },
  {
   "cell_type": "code",
   "execution_count": 150,
   "metadata": {},
   "outputs": [
    {
     "data": {
      "text/plain": [
       "0.002203061223879429"
      ]
     },
     "execution_count": 150,
     "metadata": {},
     "output_type": "execute_result"
    }
   ],
   "source": [
    "stats.ttest_ind(elif_comments['char_count'], elip_comments['char_count'], equal_var = False).pvalue"
   ]
  },
  {
   "cell_type": "code",
   "execution_count": 151,
   "metadata": {},
   "outputs": [
    {
     "data": {
      "text/plain": [
       "0.004868564661836086"
      ]
     },
     "execution_count": 151,
     "metadata": {},
     "output_type": "execute_result"
    }
   ],
   "source": [
    "stats.ttest_ind(elif_comments['sentence_count'], elip_comments['sentence_count'], equal_var = False).pvalue"
   ]
  },
  {
   "cell_type": "code",
   "execution_count": 152,
   "metadata": {},
   "outputs": [
    {
     "data": {
      "text/plain": [
       "2.4931997542276306e-05"
      ]
     },
     "execution_count": 152,
     "metadata": {},
     "output_type": "execute_result"
    }
   ],
   "source": [
    "stats.ttest_ind(elif_comments['average_word_length'], elip_comments['average_word_length'], equal_var = False).pvalue"
   ]
  },
  {
   "cell_type": "code",
   "execution_count": 153,
   "metadata": {
    "scrolled": true
   },
   "outputs": [
    {
     "data": {
      "text/html": [
       "<div>\n",
       "<style scoped>\n",
       "    .dataframe tbody tr th:only-of-type {\n",
       "        vertical-align: middle;\n",
       "    }\n",
       "\n",
       "    .dataframe tbody tr th {\n",
       "        vertical-align: top;\n",
       "    }\n",
       "\n",
       "    .dataframe thead th {\n",
       "        text-align: right;\n",
       "    }\n",
       "</style>\n",
       "<table border=\"1\" class=\"dataframe\">\n",
       "  <thead>\n",
       "    <tr style=\"text-align: right;\">\n",
       "      <th></th>\n",
       "      <th>Unnamed: 0</th>\n",
       "      <th>index</th>\n",
       "      <th>retrieved_on</th>\n",
       "      <th>created_utc</th>\n",
       "      <th>word_count</th>\n",
       "      <th>char_count</th>\n",
       "      <th>sentence_count</th>\n",
       "      <th>average_word_length</th>\n",
       "    </tr>\n",
       "  </thead>\n",
       "  <tbody>\n",
       "    <tr>\n",
       "      <th>count</th>\n",
       "      <td>1000.000000</td>\n",
       "      <td>1000.000000</td>\n",
       "      <td>1.000000e+03</td>\n",
       "      <td>1.000000e+03</td>\n",
       "      <td>1000.000000</td>\n",
       "      <td>1000.000000</td>\n",
       "      <td>1000.00000</td>\n",
       "      <td>1000.000000</td>\n",
       "    </tr>\n",
       "    <tr>\n",
       "      <th>mean</th>\n",
       "      <td>1795.963000</td>\n",
       "      <td>50.463000</td>\n",
       "      <td>1.595418e+09</td>\n",
       "      <td>1.595338e+09</td>\n",
       "      <td>84.451000</td>\n",
       "      <td>482.381000</td>\n",
       "      <td>4.07900</td>\n",
       "      <td>5.793264</td>\n",
       "    </tr>\n",
       "    <tr>\n",
       "      <th>std</th>\n",
       "      <td>1098.629059</td>\n",
       "      <td>28.959373</td>\n",
       "      <td>2.305338e+04</td>\n",
       "      <td>2.560633e+04</td>\n",
       "      <td>82.563687</td>\n",
       "      <td>468.018696</td>\n",
       "      <td>3.64253</td>\n",
       "      <td>0.840013</td>\n",
       "    </tr>\n",
       "    <tr>\n",
       "      <th>min</th>\n",
       "      <td>1.000000</td>\n",
       "      <td>0.000000</td>\n",
       "      <td>1.595374e+09</td>\n",
       "      <td>1.595287e+09</td>\n",
       "      <td>5.000000</td>\n",
       "      <td>27.000000</td>\n",
       "      <td>1.00000</td>\n",
       "      <td>4.125000</td>\n",
       "    </tr>\n",
       "    <tr>\n",
       "      <th>25%</th>\n",
       "      <td>854.250000</td>\n",
       "      <td>27.000000</td>\n",
       "      <td>1.595397e+09</td>\n",
       "      <td>1.595314e+09</td>\n",
       "      <td>34.000000</td>\n",
       "      <td>196.000000</td>\n",
       "      <td>2.00000</td>\n",
       "      <td>5.352544</td>\n",
       "    </tr>\n",
       "    <tr>\n",
       "      <th>50%</th>\n",
       "      <td>1773.500000</td>\n",
       "      <td>51.000000</td>\n",
       "      <td>1.595419e+09</td>\n",
       "      <td>1.595344e+09</td>\n",
       "      <td>61.000000</td>\n",
       "      <td>343.000000</td>\n",
       "      <td>3.00000</td>\n",
       "      <td>5.680625</td>\n",
       "    </tr>\n",
       "    <tr>\n",
       "      <th>75%</th>\n",
       "      <td>2769.000000</td>\n",
       "      <td>75.250000</td>\n",
       "      <td>1.595436e+09</td>\n",
       "      <td>1.595358e+09</td>\n",
       "      <td>108.250000</td>\n",
       "      <td>622.250000</td>\n",
       "      <td>5.00000</td>\n",
       "      <td>6.033122</td>\n",
       "    </tr>\n",
       "    <tr>\n",
       "      <th>max</th>\n",
       "      <td>3639.000000</td>\n",
       "      <td>99.000000</td>\n",
       "      <td>1.595458e+09</td>\n",
       "      <td>1.595378e+09</td>\n",
       "      <td>836.000000</td>\n",
       "      <td>4843.000000</td>\n",
       "      <td>43.00000</td>\n",
       "      <td>14.600000</td>\n",
       "    </tr>\n",
       "  </tbody>\n",
       "</table>\n",
       "</div>"
      ],
      "text/plain": [
       "        Unnamed: 0        index  retrieved_on   created_utc   word_count  \\\n",
       "count  1000.000000  1000.000000  1.000000e+03  1.000000e+03  1000.000000   \n",
       "mean   1795.963000    50.463000  1.595418e+09  1.595338e+09    84.451000   \n",
       "std    1098.629059    28.959373  2.305338e+04  2.560633e+04    82.563687   \n",
       "min       1.000000     0.000000  1.595374e+09  1.595287e+09     5.000000   \n",
       "25%     854.250000    27.000000  1.595397e+09  1.595314e+09    34.000000   \n",
       "50%    1773.500000    51.000000  1.595419e+09  1.595344e+09    61.000000   \n",
       "75%    2769.000000    75.250000  1.595436e+09  1.595358e+09   108.250000   \n",
       "max    3639.000000    99.000000  1.595458e+09  1.595378e+09   836.000000   \n",
       "\n",
       "        char_count  sentence_count  average_word_length  \n",
       "count  1000.000000      1000.00000          1000.000000  \n",
       "mean    482.381000         4.07900             5.793264  \n",
       "std     468.018696         3.64253             0.840013  \n",
       "min      27.000000         1.00000             4.125000  \n",
       "25%     196.000000         2.00000             5.352544  \n",
       "50%     343.000000         3.00000             5.680625  \n",
       "75%     622.250000         5.00000             6.033122  \n",
       "max    4843.000000        43.00000            14.600000  "
      ]
     },
     "execution_count": 153,
     "metadata": {},
     "output_type": "execute_result"
    }
   ],
   "source": [
    "elif_comments.describe()"
   ]
  },
  {
   "cell_type": "code",
   "execution_count": 154,
   "metadata": {},
   "outputs": [
    {
     "data": {
      "text/html": [
       "<div>\n",
       "<style scoped>\n",
       "    .dataframe tbody tr th:only-of-type {\n",
       "        vertical-align: middle;\n",
       "    }\n",
       "\n",
       "    .dataframe tbody tr th {\n",
       "        vertical-align: top;\n",
       "    }\n",
       "\n",
       "    .dataframe thead th {\n",
       "        text-align: right;\n",
       "    }\n",
       "</style>\n",
       "<table border=\"1\" class=\"dataframe\">\n",
       "  <thead>\n",
       "    <tr style=\"text-align: right;\">\n",
       "      <th></th>\n",
       "      <th>Unnamed: 0</th>\n",
       "      <th>index</th>\n",
       "      <th>retrieved_on</th>\n",
       "      <th>created_utc</th>\n",
       "      <th>word_count</th>\n",
       "      <th>char_count</th>\n",
       "      <th>sentence_count</th>\n",
       "      <th>average_word_length</th>\n",
       "    </tr>\n",
       "  </thead>\n",
       "  <tbody>\n",
       "    <tr>\n",
       "      <th>count</th>\n",
       "      <td>1000.000000</td>\n",
       "      <td>1000.000000</td>\n",
       "      <td>9.860000e+02</td>\n",
       "      <td>1.000000e+03</td>\n",
       "      <td>1000.000000</td>\n",
       "      <td>1000.000000</td>\n",
       "      <td>1000.000000</td>\n",
       "      <td>1000.000000</td>\n",
       "    </tr>\n",
       "    <tr>\n",
       "      <th>mean</th>\n",
       "      <td>1453.886000</td>\n",
       "      <td>48.286000</td>\n",
       "      <td>1.468187e+09</td>\n",
       "      <td>1.466528e+09</td>\n",
       "      <td>95.436000</td>\n",
       "      <td>572.592000</td>\n",
       "      <td>4.675000</td>\n",
       "      <td>6.085508</td>\n",
       "    </tr>\n",
       "    <tr>\n",
       "      <th>std</th>\n",
       "      <td>867.128709</td>\n",
       "      <td>28.904735</td>\n",
       "      <td>4.534245e+07</td>\n",
       "      <td>4.594102e+07</td>\n",
       "      <td>132.640776</td>\n",
       "      <td>804.037863</td>\n",
       "      <td>5.605604</td>\n",
       "      <td>2.016675</td>\n",
       "    </tr>\n",
       "    <tr>\n",
       "      <th>min</th>\n",
       "      <td>1.000000</td>\n",
       "      <td>0.000000</td>\n",
       "      <td>1.427862e+09</td>\n",
       "      <td>1.426800e+09</td>\n",
       "      <td>5.000000</td>\n",
       "      <td>10.000000</td>\n",
       "      <td>1.000000</td>\n",
       "      <td>1.000000</td>\n",
       "    </tr>\n",
       "    <tr>\n",
       "      <th>25%</th>\n",
       "      <td>688.750000</td>\n",
       "      <td>24.000000</td>\n",
       "      <td>1.432758e+09</td>\n",
       "      <td>1.430901e+09</td>\n",
       "      <td>16.000000</td>\n",
       "      <td>97.000000</td>\n",
       "      <td>1.000000</td>\n",
       "      <td>5.315414</td>\n",
       "    </tr>\n",
       "    <tr>\n",
       "      <th>50%</th>\n",
       "      <td>1466.000000</td>\n",
       "      <td>48.000000</td>\n",
       "      <td>1.450042e+09</td>\n",
       "      <td>1.448596e+09</td>\n",
       "      <td>44.000000</td>\n",
       "      <td>267.500000</td>\n",
       "      <td>3.000000</td>\n",
       "      <td>5.815873</td>\n",
       "    </tr>\n",
       "    <tr>\n",
       "      <th>75%</th>\n",
       "      <td>2222.250000</td>\n",
       "      <td>73.000000</td>\n",
       "      <td>1.488686e+09</td>\n",
       "      <td>1.488607e+09</td>\n",
       "      <td>120.000000</td>\n",
       "      <td>736.250000</td>\n",
       "      <td>5.250000</td>\n",
       "      <td>6.275838</td>\n",
       "    </tr>\n",
       "    <tr>\n",
       "      <th>max</th>\n",
       "      <td>2908.000000</td>\n",
       "      <td>99.000000</td>\n",
       "      <td>1.594642e+09</td>\n",
       "      <td>1.594642e+09</td>\n",
       "      <td>1084.000000</td>\n",
       "      <td>6803.000000</td>\n",
       "      <td>44.000000</td>\n",
       "      <td>35.181818</td>\n",
       "    </tr>\n",
       "  </tbody>\n",
       "</table>\n",
       "</div>"
      ],
      "text/plain": [
       "        Unnamed: 0        index  retrieved_on   created_utc   word_count  \\\n",
       "count  1000.000000  1000.000000  9.860000e+02  1.000000e+03  1000.000000   \n",
       "mean   1453.886000    48.286000  1.468187e+09  1.466528e+09    95.436000   \n",
       "std     867.128709    28.904735  4.534245e+07  4.594102e+07   132.640776   \n",
       "min       1.000000     0.000000  1.427862e+09  1.426800e+09     5.000000   \n",
       "25%     688.750000    24.000000  1.432758e+09  1.430901e+09    16.000000   \n",
       "50%    1466.000000    48.000000  1.450042e+09  1.448596e+09    44.000000   \n",
       "75%    2222.250000    73.000000  1.488686e+09  1.488607e+09   120.000000   \n",
       "max    2908.000000    99.000000  1.594642e+09  1.594642e+09  1084.000000   \n",
       "\n",
       "        char_count  sentence_count  average_word_length  \n",
       "count  1000.000000     1000.000000          1000.000000  \n",
       "mean    572.592000        4.675000             6.085508  \n",
       "std     804.037863        5.605604             2.016675  \n",
       "min      10.000000        1.000000             1.000000  \n",
       "25%      97.000000        1.000000             5.315414  \n",
       "50%     267.500000        3.000000             5.815873  \n",
       "75%     736.250000        5.250000             6.275838  \n",
       "max    6803.000000       44.000000            35.181818  "
      ]
     },
     "execution_count": 154,
     "metadata": {},
     "output_type": "execute_result"
    }
   ],
   "source": [
    "elip_comments.describe()"
   ]
  },
  {
   "cell_type": "code",
   "execution_count": 155,
   "metadata": {
    "scrolled": true
   },
   "outputs": [
    {
     "data": {
      "text/plain": [
       "Text(0.5, 1.0, 'Average Character Count per Comment')"
      ]
     },
     "execution_count": 155,
     "metadata": {},
     "output_type": "execute_result"
    },
    {
     "data": {
      "image/png": "[encoded data removed]",
      "text/plain": [
       "<Figure size 432x288 with 1 Axes>"
      ]
     },
     "metadata": {
      "needs_background": "light"
     },
     "output_type": "display_data"
    }
   ],
   "source": [
    "plt.bar(['five', 'phd'], \n",
    "        [elif_comments['char_count'].mean(), elip_comments['char_count'].mean()],\n",
    "       color = colors);\n",
    "plt.title('Average Character Count per Comment')"
   ]
  },
  {
   "cell_type": "code",
   "execution_count": 156,
   "metadata": {
    "scrolled": false
   },
   "outputs": [
    {
     "data": {
      "text/plain": [
       "Text(0.5, 1.0, 'Average Sentence Count per Comment')"
      ]
     },
     "execution_count": 156,
     "metadata": {},
     "output_type": "execute_result"
    },
    {
     "data": {
      "image/png": "[encoded data removed]",
      "text/plain": [
       "<Figure size 432x288 with 1 Axes>"
      ]
     },
     "metadata": {
      "needs_background": "light"
     },
     "output_type": "display_data"
    }
   ],
   "source": [
    "plt.bar(['five', 'phd'], \n",
    "        [elif_comments['sentence_count'].mean(), elip_comments['sentence_count'].mean()],\n",
    "       color = colors);\n",
    "plt.title('Average Sentence Count per Comment')"
   ]
  },
  {
   "cell_type": "code",
   "execution_count": 157,
   "metadata": {
    "scrolled": true
   },
   "outputs": [
    {
     "data": {
      "text/plain": [
       "Text(0.5, 1.0, 'Average Words per Sentence')"
      ]
     },
     "execution_count": 157,
     "metadata": {},
     "output_type": "execute_result"
    },
    {
     "data": {
      "image/png": "[encoded data removed]",
      "text/plain": [
       "<Figure size 432x288 with 1 Axes>"
      ]
     },
     "metadata": {
      "needs_background": "light"
     },
     "output_type": "display_data"
    }
   ],
   "source": [
    "plt.bar(['five', 'phd'], \n",
    "        [elif_comments['word_count'].mean()/elif_comments['sentence_count'].mean(), \n",
    "         elip_comments['word_count'].mean()/elip_comments['sentence_count'].mean()],\n",
    "       color = colors);\n",
    "plt.title('Average Words per Sentence')"
   ]
  },
  {
   "cell_type": "code",
   "execution_count": 158,
   "metadata": {},
   "outputs": [
    {
     "data": {
      "text/plain": [
       "<matplotlib.axes._subplots.AxesSubplot at 0x7fa1d9c29dd0>"
      ]
     },
     "execution_count": 158,
     "metadata": {},
     "output_type": "execute_result"
    },
    {
     "data": {
      "image/png": "[encoded data removed]",
      "text/plain": [
       "<Figure size 504x504 with 1 Axes>"
      ]
     },
     "metadata": {
      "needs_background": "light"
     },
     "output_type": "display_data"
    }
   ],
   "source": [
    "df.boxplot('word_count', by = 'subreddit', figsize = (7, 7))"
   ]
  },
  {
   "cell_type": "code",
   "execution_count": 159,
   "metadata": {},
   "outputs": [
    {
     "data": {
      "text/plain": [
       "Text(0.5, 1.0, 'Average Word Length')"
      ]
     },
     "execution_count": 159,
     "metadata": {},
     "output_type": "execute_result"
    },
    {
     "data": {
      "image/png": "[encoded data removed]",
      "text/plain": [
       "<Figure size 432x288 with 1 Axes>"
      ]
     },
     "metadata": {
      "needs_background": "light"
     },
     "output_type": "display_data"
    }
   ],
   "source": [
    "plt.bar(['five', 'phd'], \n",
    "        [elif_comments['average_word_length'].mean(),\n",
    "         elip_comments['average_word_length'].mean()],\n",
    "       color = colors);\n",
    "plt.ylabel('Letters')\n",
    "plt.title('Average Word Length')"
   ]
  },
  {
   "cell_type": "code",
   "execution_count": 160,
   "metadata": {},
   "outputs": [
    {
     "data": {
      "text/plain": [
       "Text(0.5, 1.0, 'Percent of Comments Removed or Deleted')"
      ]
     },
     "execution_count": 160,
     "metadata": {},
     "output_type": "execute_result"
    },
    {
     "data": {
      "image/png": "[encoded data removed]",
      "text/plain": [
       "<Figure size 432x288 with 1 Axes>"
      ]
     },
     "metadata": {
      "needs_background": "light"
     },
     "output_type": "display_data"
    }
   ],
   "source": [
    "plt.bar(['five', 'phd'], [100-1111/1187*100, 100-1420/1547*100], color = colors);\n",
    "plt.title('Percent of Comments Removed or Deleted')"
   ]
  },
  {
   "cell_type": "code",
   "execution_count": 161,
   "metadata": {
    "scrolled": true
   },
   "outputs": [
    {
     "data": {
      "text/html": [
       "<div>\n",
       "<style scoped>\n",
       "    .dataframe tbody tr th:only-of-type {\n",
       "        vertical-align: middle;\n",
       "    }\n",
       "\n",
       "    .dataframe tbody tr th {\n",
       "        vertical-align: top;\n",
       "    }\n",
       "\n",
       "    .dataframe thead th {\n",
       "        text-align: right;\n",
       "    }\n",
       "</style>\n",
       "<table border=\"1\" class=\"dataframe\">\n",
       "  <thead>\n",
       "    <tr style=\"text-align: right;\">\n",
       "      <th></th>\n",
       "      <th>Unnamed: 0</th>\n",
       "      <th>index</th>\n",
       "      <th>retrieved_on</th>\n",
       "      <th>created_utc</th>\n",
       "      <th>word_count</th>\n",
       "      <th>char_count</th>\n",
       "      <th>sentence_count</th>\n",
       "      <th>average_word_length</th>\n",
       "    </tr>\n",
       "  </thead>\n",
       "  <tbody>\n",
       "    <tr>\n",
       "      <th>count</th>\n",
       "      <td>1000.000000</td>\n",
       "      <td>1000.000000</td>\n",
       "      <td>1.000000e+03</td>\n",
       "      <td>1.000000e+03</td>\n",
       "      <td>1000.000000</td>\n",
       "      <td>1000.000000</td>\n",
       "      <td>1000.00000</td>\n",
       "      <td>1000.000000</td>\n",
       "    </tr>\n",
       "    <tr>\n",
       "      <th>mean</th>\n",
       "      <td>1795.963000</td>\n",
       "      <td>50.463000</td>\n",
       "      <td>1.595418e+09</td>\n",
       "      <td>1.595338e+09</td>\n",
       "      <td>84.451000</td>\n",
       "      <td>482.381000</td>\n",
       "      <td>4.07900</td>\n",
       "      <td>5.793264</td>\n",
       "    </tr>\n",
       "    <tr>\n",
       "      <th>std</th>\n",
       "      <td>1098.629059</td>\n",
       "      <td>28.959373</td>\n",
       "      <td>2.305338e+04</td>\n",
       "      <td>2.560633e+04</td>\n",
       "      <td>82.563687</td>\n",
       "      <td>468.018696</td>\n",
       "      <td>3.64253</td>\n",
       "      <td>0.840013</td>\n",
       "    </tr>\n",
       "    <tr>\n",
       "      <th>min</th>\n",
       "      <td>1.000000</td>\n",
       "      <td>0.000000</td>\n",
       "      <td>1.595374e+09</td>\n",
       "      <td>1.595287e+09</td>\n",
       "      <td>5.000000</td>\n",
       "      <td>27.000000</td>\n",
       "      <td>1.00000</td>\n",
       "      <td>4.125000</td>\n",
       "    </tr>\n",
       "    <tr>\n",
       "      <th>25%</th>\n",
       "      <td>854.250000</td>\n",
       "      <td>27.000000</td>\n",
       "      <td>1.595397e+09</td>\n",
       "      <td>1.595314e+09</td>\n",
       "      <td>34.000000</td>\n",
       "      <td>196.000000</td>\n",
       "      <td>2.00000</td>\n",
       "      <td>5.352544</td>\n",
       "    </tr>\n",
       "    <tr>\n",
       "      <th>50%</th>\n",
       "      <td>1773.500000</td>\n",
       "      <td>51.000000</td>\n",
       "      <td>1.595419e+09</td>\n",
       "      <td>1.595344e+09</td>\n",
       "      <td>61.000000</td>\n",
       "      <td>343.000000</td>\n",
       "      <td>3.00000</td>\n",
       "      <td>5.680625</td>\n",
       "    </tr>\n",
       "    <tr>\n",
       "      <th>75%</th>\n",
       "      <td>2769.000000</td>\n",
       "      <td>75.250000</td>\n",
       "      <td>1.595436e+09</td>\n",
       "      <td>1.595358e+09</td>\n",
       "      <td>108.250000</td>\n",
       "      <td>622.250000</td>\n",
       "      <td>5.00000</td>\n",
       "      <td>6.033122</td>\n",
       "    </tr>\n",
       "    <tr>\n",
       "      <th>max</th>\n",
       "      <td>3639.000000</td>\n",
       "      <td>99.000000</td>\n",
       "      <td>1.595458e+09</td>\n",
       "      <td>1.595378e+09</td>\n",
       "      <td>836.000000</td>\n",
       "      <td>4843.000000</td>\n",
       "      <td>43.00000</td>\n",
       "      <td>14.600000</td>\n",
       "    </tr>\n",
       "  </tbody>\n",
       "</table>\n",
       "</div>"
      ],
      "text/plain": [
       "        Unnamed: 0        index  retrieved_on   created_utc   word_count  \\\n",
       "count  1000.000000  1000.000000  1.000000e+03  1.000000e+03  1000.000000   \n",
       "mean   1795.963000    50.463000  1.595418e+09  1.595338e+09    84.451000   \n",
       "std    1098.629059    28.959373  2.305338e+04  2.560633e+04    82.563687   \n",
       "min       1.000000     0.000000  1.595374e+09  1.595287e+09     5.000000   \n",
       "25%     854.250000    27.000000  1.595397e+09  1.595314e+09    34.000000   \n",
       "50%    1773.500000    51.000000  1.595419e+09  1.595344e+09    61.000000   \n",
       "75%    2769.000000    75.250000  1.595436e+09  1.595358e+09   108.250000   \n",
       "max    3639.000000    99.000000  1.595458e+09  1.595378e+09   836.000000   \n",
       "\n",
       "        char_count  sentence_count  average_word_length  \n",
       "count  1000.000000      1000.00000          1000.000000  \n",
       "mean    482.381000         4.07900             5.793264  \n",
       "std     468.018696         3.64253             0.840013  \n",
       "min      27.000000         1.00000             4.125000  \n",
       "25%     196.000000         2.00000             5.352544  \n",
       "50%     343.000000         3.00000             5.680625  \n",
       "75%     622.250000         5.00000             6.033122  \n",
       "max    4843.000000        43.00000            14.600000  "
      ]
     },
     "execution_count": 161,
     "metadata": {},
     "output_type": "execute_result"
    }
   ],
   "source": [
    "elif_comments.describe()"
   ]
  },
  {
   "cell_type": "code",
   "execution_count": 162,
   "metadata": {
    "scrolled": true
   },
   "outputs": [
    {
     "data": {
      "text/html": [
       "<div>\n",
       "<style scoped>\n",
       "    .dataframe tbody tr th:only-of-type {\n",
       "        vertical-align: middle;\n",
       "    }\n",
       "\n",
       "    .dataframe tbody tr th {\n",
       "        vertical-align: top;\n",
       "    }\n",
       "\n",
       "    .dataframe thead th {\n",
       "        text-align: right;\n",
       "    }\n",
       "</style>\n",
       "<table border=\"1\" class=\"dataframe\">\n",
       "  <thead>\n",
       "    <tr style=\"text-align: right;\">\n",
       "      <th></th>\n",
       "      <th>Unnamed: 0</th>\n",
       "      <th>index</th>\n",
       "      <th>retrieved_on</th>\n",
       "      <th>created_utc</th>\n",
       "      <th>word_count</th>\n",
       "      <th>char_count</th>\n",
       "      <th>sentence_count</th>\n",
       "      <th>average_word_length</th>\n",
       "    </tr>\n",
       "  </thead>\n",
       "  <tbody>\n",
       "    <tr>\n",
       "      <th>count</th>\n",
       "      <td>1000.000000</td>\n",
       "      <td>1000.000000</td>\n",
       "      <td>9.860000e+02</td>\n",
       "      <td>1.000000e+03</td>\n",
       "      <td>1000.000000</td>\n",
       "      <td>1000.000000</td>\n",
       "      <td>1000.000000</td>\n",
       "      <td>1000.000000</td>\n",
       "    </tr>\n",
       "    <tr>\n",
       "      <th>mean</th>\n",
       "      <td>1453.886000</td>\n",
       "      <td>48.286000</td>\n",
       "      <td>1.468187e+09</td>\n",
       "      <td>1.466528e+09</td>\n",
       "      <td>95.436000</td>\n",
       "      <td>572.592000</td>\n",
       "      <td>4.675000</td>\n",
       "      <td>6.085508</td>\n",
       "    </tr>\n",
       "    <tr>\n",
       "      <th>std</th>\n",
       "      <td>867.128709</td>\n",
       "      <td>28.904735</td>\n",
       "      <td>4.534245e+07</td>\n",
       "      <td>4.594102e+07</td>\n",
       "      <td>132.640776</td>\n",
       "      <td>804.037863</td>\n",
       "      <td>5.605604</td>\n",
       "      <td>2.016675</td>\n",
       "    </tr>\n",
       "    <tr>\n",
       "      <th>min</th>\n",
       "      <td>1.000000</td>\n",
       "      <td>0.000000</td>\n",
       "      <td>1.427862e+09</td>\n",
       "      <td>1.426800e+09</td>\n",
       "      <td>5.000000</td>\n",
       "      <td>10.000000</td>\n",
       "      <td>1.000000</td>\n",
       "      <td>1.000000</td>\n",
       "    </tr>\n",
       "    <tr>\n",
       "      <th>25%</th>\n",
       "      <td>688.750000</td>\n",
       "      <td>24.000000</td>\n",
       "      <td>1.432758e+09</td>\n",
       "      <td>1.430901e+09</td>\n",
       "      <td>16.000000</td>\n",
       "      <td>97.000000</td>\n",
       "      <td>1.000000</td>\n",
       "      <td>5.315414</td>\n",
       "    </tr>\n",
       "    <tr>\n",
       "      <th>50%</th>\n",
       "      <td>1466.000000</td>\n",
       "      <td>48.000000</td>\n",
       "      <td>1.450042e+09</td>\n",
       "      <td>1.448596e+09</td>\n",
       "      <td>44.000000</td>\n",
       "      <td>267.500000</td>\n",
       "      <td>3.000000</td>\n",
       "      <td>5.815873</td>\n",
       "    </tr>\n",
       "    <tr>\n",
       "      <th>75%</th>\n",
       "      <td>2222.250000</td>\n",
       "      <td>73.000000</td>\n",
       "      <td>1.488686e+09</td>\n",
       "      <td>1.488607e+09</td>\n",
       "      <td>120.000000</td>\n",
       "      <td>736.250000</td>\n",
       "      <td>5.250000</td>\n",
       "      <td>6.275838</td>\n",
       "    </tr>\n",
       "    <tr>\n",
       "      <th>max</th>\n",
       "      <td>2908.000000</td>\n",
       "      <td>99.000000</td>\n",
       "      <td>1.594642e+09</td>\n",
       "      <td>1.594642e+09</td>\n",
       "      <td>1084.000000</td>\n",
       "      <td>6803.000000</td>\n",
       "      <td>44.000000</td>\n",
       "      <td>35.181818</td>\n",
       "    </tr>\n",
       "  </tbody>\n",
       "</table>\n",
       "</div>"
      ],
      "text/plain": [
       "        Unnamed: 0        index  retrieved_on   created_utc   word_count  \\\n",
       "count  1000.000000  1000.000000  9.860000e+02  1.000000e+03  1000.000000   \n",
       "mean   1453.886000    48.286000  1.468187e+09  1.466528e+09    95.436000   \n",
       "std     867.128709    28.904735  4.534245e+07  4.594102e+07   132.640776   \n",
       "min       1.000000     0.000000  1.427862e+09  1.426800e+09     5.000000   \n",
       "25%     688.750000    24.000000  1.432758e+09  1.430901e+09    16.000000   \n",
       "50%    1466.000000    48.000000  1.450042e+09  1.448596e+09    44.000000   \n",
       "75%    2222.250000    73.000000  1.488686e+09  1.488607e+09   120.000000   \n",
       "max    2908.000000    99.000000  1.594642e+09  1.594642e+09  1084.000000   \n",
       "\n",
       "        char_count  sentence_count  average_word_length  \n",
       "count  1000.000000     1000.000000          1000.000000  \n",
       "mean    572.592000        4.675000             6.085508  \n",
       "std     804.037863        5.605604             2.016675  \n",
       "min      10.000000        1.000000             1.000000  \n",
       "25%      97.000000        1.000000             5.315414  \n",
       "50%     267.500000        3.000000             5.815873  \n",
       "75%     736.250000        5.250000             6.275838  \n",
       "max    6803.000000       44.000000            35.181818  "
      ]
     },
     "execution_count": 162,
     "metadata": {},
     "output_type": "execute_result"
    }
   ],
   "source": [
    "elip_comments.describe()"
   ]
  },
  {
   "cell_type": "code",
   "execution_count": 163,
   "metadata": {},
   "outputs": [],
   "source": [
    "#  dummifies target category\n",
    "df['subreddit'] = df['subreddit'].map(lambda s: int(s.lower() == 'explainlikeimphd'))"
   ]
  },
  {
   "cell_type": "markdown",
   "metadata": {},
   "source": [
    "# Prepare Model"
   ]
  },
  {
   "cell_type": "code",
   "execution_count": 164,
   "metadata": {},
   "outputs": [],
   "source": [
    "X = df.copy()\n",
    "y = df['subreddit']\n",
    "X_train, X_test, y_train, y_test = train_test_split(X, y, stratify = y, random_state = 37)"
   ]
  },
  {
   "cell_type": "code",
   "execution_count": 165,
   "metadata": {},
   "outputs": [],
   "source": [
    "cvec = CountVectorizer(stop_words = 'english')\n",
    "\n",
    "elif_train = X_train[X_train['subreddit'] == 0]\n",
    "elip_train = X_train[X_train['subreddit'] == 1]\n",
    "\n",
    "elip_train = cvec.fit_transform(elip_train['body'])\n",
    "\n",
    "elip_train_df = pd.DataFrame(elip_train.toarray(),\n",
    "                          columns=cvec.get_feature_names())\n",
    "\n",
    "top_words_elip = {}\n",
    "\n",
    "# loop through columns\n",
    "for i in elip_train_df.columns:\n",
    "    # save sum of each column in dictionary\n",
    "    top_words_elip[i] = elip_train_df[i].sum()\n",
    "    \n",
    "# top_words to dataframe sorted by highest occurance\n",
    "most_freq_elip = pd.DataFrame(sorted(top_words_elip.items(), key = lambda x: x[1], reverse = True))\n",
    "\n",
    "elif_train = cvec.fit_transform(elif_train['body'])\n",
    "\n",
    "elif_train_df = pd.DataFrame(elif_train.toarray(),\n",
    "                          columns=cvec.get_feature_names())\n",
    "\n",
    "top_words_elif = {}\n",
    "\n",
    "# loop through columns\n",
    "for i in elif_train_df.columns:\n",
    "    # save sum of each column in dictionary\n",
    "    top_words_elif[i] = elif_train_df[i].sum()\n",
    "    \n",
    "# top_words to dataframe sorted by highest occurance\n",
    "most_freq_elif = pd.DataFrame(sorted(top_words_elif.items(), key = lambda x: x[1], reverse = True))"
   ]
  },
  {
   "cell_type": "code",
   "execution_count": 166,
   "metadata": {
    "scrolled": true
   },
   "outputs": [
    {
     "data": {
      "text/html": [
       "<div>\n",
       "<style scoped>\n",
       "    .dataframe tbody tr th:only-of-type {\n",
       "        vertical-align: middle;\n",
       "    }\n",
       "\n",
       "    .dataframe tbody tr th {\n",
       "        vertical-align: top;\n",
       "    }\n",
       "\n",
       "    .dataframe thead th {\n",
       "        text-align: right;\n",
       "    }\n",
       "</style>\n",
       "<table border=\"1\" class=\"dataframe\">\n",
       "  <thead>\n",
       "    <tr style=\"text-align: right;\">\n",
       "      <th></th>\n",
       "      <th>0</th>\n",
       "      <th>1</th>\n",
       "    </tr>\n",
       "  </thead>\n",
       "  <tbody>\n",
       "    <tr>\n",
       "      <th>0</th>\n",
       "      <td>like</td>\n",
       "      <td>227</td>\n",
       "    </tr>\n",
       "    <tr>\n",
       "      <th>1</th>\n",
       "      <td>just</td>\n",
       "      <td>219</td>\n",
       "    </tr>\n",
       "    <tr>\n",
       "      <th>2</th>\n",
       "      <td>people</td>\n",
       "      <td>181</td>\n",
       "    </tr>\n",
       "    <tr>\n",
       "      <th>3</th>\n",
       "      <td>time</td>\n",
       "      <td>157</td>\n",
       "    </tr>\n",
       "    <tr>\n",
       "      <th>4</th>\n",
       "      <td>water</td>\n",
       "      <td>149</td>\n",
       "    </tr>\n",
       "    <tr>\n",
       "      <th>5</th>\n",
       "      <td>don</td>\n",
       "      <td>138</td>\n",
       "    </tr>\n",
       "    <tr>\n",
       "      <th>6</th>\n",
       "      <td>heat</td>\n",
       "      <td>127</td>\n",
       "    </tr>\n",
       "    <tr>\n",
       "      <th>7</th>\n",
       "      <td>make</td>\n",
       "      <td>123</td>\n",
       "    </tr>\n",
       "    <tr>\n",
       "      <th>8</th>\n",
       "      <td>way</td>\n",
       "      <td>120</td>\n",
       "    </tr>\n",
       "    <tr>\n",
       "      <th>9</th>\n",
       "      <td>lot</td>\n",
       "      <td>107</td>\n",
       "    </tr>\n",
       "    <tr>\n",
       "      <th>10</th>\n",
       "      <td>things</td>\n",
       "      <td>102</td>\n",
       "    </tr>\n",
       "    <tr>\n",
       "      <th>11</th>\n",
       "      <td>air</td>\n",
       "      <td>99</td>\n",
       "    </tr>\n",
       "    <tr>\n",
       "      <th>12</th>\n",
       "      <td>know</td>\n",
       "      <td>96</td>\n",
       "    </tr>\n",
       "    <tr>\n",
       "      <th>13</th>\n",
       "      <td>need</td>\n",
       "      <td>92</td>\n",
       "    </tr>\n",
       "    <tr>\n",
       "      <th>14</th>\n",
       "      <td>body</td>\n",
       "      <td>90</td>\n",
       "    </tr>\n",
       "    <tr>\n",
       "      <th>15</th>\n",
       "      <td>thing</td>\n",
       "      <td>90</td>\n",
       "    </tr>\n",
       "    <tr>\n",
       "      <th>16</th>\n",
       "      <td>space</td>\n",
       "      <td>88</td>\n",
       "    </tr>\n",
       "    <tr>\n",
       "      <th>17</th>\n",
       "      <td>use</td>\n",
       "      <td>88</td>\n",
       "    </tr>\n",
       "    <tr>\n",
       "      <th>18</th>\n",
       "      <td>different</td>\n",
       "      <td>84</td>\n",
       "    </tr>\n",
       "    <tr>\n",
       "      <th>19</th>\n",
       "      <td>really</td>\n",
       "      <td>83</td>\n",
       "    </tr>\n",
       "    <tr>\n",
       "      <th>20</th>\n",
       "      <td>think</td>\n",
       "      <td>75</td>\n",
       "    </tr>\n",
       "    <tr>\n",
       "      <th>21</th>\n",
       "      <td>doesn</td>\n",
       "      <td>68</td>\n",
       "    </tr>\n",
       "    <tr>\n",
       "      <th>22</th>\n",
       "      <td>want</td>\n",
       "      <td>68</td>\n",
       "    </tr>\n",
       "    <tr>\n",
       "      <th>23</th>\n",
       "      <td>light</td>\n",
       "      <td>67</td>\n",
       "    </tr>\n",
       "    <tr>\n",
       "      <th>24</th>\n",
       "      <td>data</td>\n",
       "      <td>66</td>\n",
       "    </tr>\n",
       "  </tbody>\n",
       "</table>\n",
       "</div>"
      ],
      "text/plain": [
       "            0    1\n",
       "0        like  227\n",
       "1        just  219\n",
       "2      people  181\n",
       "3        time  157\n",
       "4       water  149\n",
       "5         don  138\n",
       "6        heat  127\n",
       "7        make  123\n",
       "8         way  120\n",
       "9         lot  107\n",
       "10     things  102\n",
       "11        air   99\n",
       "12       know   96\n",
       "13       need   92\n",
       "14       body   90\n",
       "15      thing   90\n",
       "16      space   88\n",
       "17        use   88\n",
       "18  different   84\n",
       "19     really   83\n",
       "20      think   75\n",
       "21      doesn   68\n",
       "22       want   68\n",
       "23      light   67\n",
       "24       data   66"
      ]
     },
     "execution_count": 166,
     "metadata": {},
     "output_type": "execute_result"
    }
   ],
   "source": [
    "most_freq_elif.head(25)"
   ]
  },
  {
   "cell_type": "code",
   "execution_count": 167,
   "metadata": {
    "scrolled": true
   },
   "outputs": [
    {
     "data": {
      "text/html": [
       "<div>\n",
       "<style scoped>\n",
       "    .dataframe tbody tr th:only-of-type {\n",
       "        vertical-align: middle;\n",
       "    }\n",
       "\n",
       "    .dataframe tbody tr th {\n",
       "        vertical-align: top;\n",
       "    }\n",
       "\n",
       "    .dataframe thead th {\n",
       "        text-align: right;\n",
       "    }\n",
       "</style>\n",
       "<table border=\"1\" class=\"dataframe\">\n",
       "  <thead>\n",
       "    <tr style=\"text-align: right;\">\n",
       "      <th></th>\n",
       "      <th>0</th>\n",
       "      <th>1</th>\n",
       "    </tr>\n",
       "  </thead>\n",
       "  <tbody>\n",
       "    <tr>\n",
       "      <th>0</th>\n",
       "      <td>like</td>\n",
       "      <td>243</td>\n",
       "    </tr>\n",
       "    <tr>\n",
       "      <th>1</th>\n",
       "      <td>time</td>\n",
       "      <td>167</td>\n",
       "    </tr>\n",
       "    <tr>\n",
       "      <th>2</th>\n",
       "      <td>just</td>\n",
       "      <td>145</td>\n",
       "    </tr>\n",
       "    <tr>\n",
       "      <th>3</th>\n",
       "      <td>people</td>\n",
       "      <td>132</td>\n",
       "    </tr>\n",
       "    <tr>\n",
       "      <th>4</th>\n",
       "      <td>light</td>\n",
       "      <td>118</td>\n",
       "    </tr>\n",
       "    <tr>\n",
       "      <th>5</th>\n",
       "      <td>don</td>\n",
       "      <td>115</td>\n",
       "    </tr>\n",
       "    <tr>\n",
       "      <th>6</th>\n",
       "      <td>way</td>\n",
       "      <td>110</td>\n",
       "    </tr>\n",
       "    <tr>\n",
       "      <th>7</th>\n",
       "      <td>think</td>\n",
       "      <td>106</td>\n",
       "    </tr>\n",
       "    <tr>\n",
       "      <th>8</th>\n",
       "      <td>https</td>\n",
       "      <td>105</td>\n",
       "    </tr>\n",
       "    <tr>\n",
       "      <th>9</th>\n",
       "      <td>energy</td>\n",
       "      <td>100</td>\n",
       "    </tr>\n",
       "    <tr>\n",
       "      <th>10</th>\n",
       "      <td>number</td>\n",
       "      <td>100</td>\n",
       "    </tr>\n",
       "    <tr>\n",
       "      <th>11</th>\n",
       "      <td>question</td>\n",
       "      <td>98</td>\n",
       "    </tr>\n",
       "    <tr>\n",
       "      <th>12</th>\n",
       "      <td>different</td>\n",
       "      <td>92</td>\n",
       "    </tr>\n",
       "    <tr>\n",
       "      <th>13</th>\n",
       "      <td>know</td>\n",
       "      <td>91</td>\n",
       "    </tr>\n",
       "    <tr>\n",
       "      <th>14</th>\n",
       "      <td>things</td>\n",
       "      <td>89</td>\n",
       "    </tr>\n",
       "    <tr>\n",
       "      <th>15</th>\n",
       "      <td>make</td>\n",
       "      <td>81</td>\n",
       "    </tr>\n",
       "    <tr>\n",
       "      <th>16</th>\n",
       "      <td>use</td>\n",
       "      <td>75</td>\n",
       "    </tr>\n",
       "    <tr>\n",
       "      <th>17</th>\n",
       "      <td>good</td>\n",
       "      <td>73</td>\n",
       "    </tr>\n",
       "    <tr>\n",
       "      <th>18</th>\n",
       "      <td>object</td>\n",
       "      <td>73</td>\n",
       "    </tr>\n",
       "    <tr>\n",
       "      <th>19</th>\n",
       "      <td>really</td>\n",
       "      <td>70</td>\n",
       "    </tr>\n",
       "    <tr>\n",
       "      <th>20</th>\n",
       "      <td>com</td>\n",
       "      <td>68</td>\n",
       "    </tr>\n",
       "    <tr>\n",
       "      <th>21</th>\n",
       "      <td>does</td>\n",
       "      <td>68</td>\n",
       "    </tr>\n",
       "    <tr>\n",
       "      <th>22</th>\n",
       "      <td>http</td>\n",
       "      <td>67</td>\n",
       "    </tr>\n",
       "    <tr>\n",
       "      <th>23</th>\n",
       "      <td>wikipedia</td>\n",
       "      <td>67</td>\n",
       "    </tr>\n",
       "    <tr>\n",
       "      <th>24</th>\n",
       "      <td>answer</td>\n",
       "      <td>66</td>\n",
       "    </tr>\n",
       "  </tbody>\n",
       "</table>\n",
       "</div>"
      ],
      "text/plain": [
       "            0    1\n",
       "0        like  243\n",
       "1        time  167\n",
       "2        just  145\n",
       "3      people  132\n",
       "4       light  118\n",
       "5         don  115\n",
       "6         way  110\n",
       "7       think  106\n",
       "8       https  105\n",
       "9      energy  100\n",
       "10     number  100\n",
       "11   question   98\n",
       "12  different   92\n",
       "13       know   91\n",
       "14     things   89\n",
       "15       make   81\n",
       "16        use   75\n",
       "17       good   73\n",
       "18     object   73\n",
       "19     really   70\n",
       "20        com   68\n",
       "21       does   68\n",
       "22       http   67\n",
       "23  wikipedia   67\n",
       "24     answer   66"
      ]
     },
     "execution_count": 167,
     "metadata": {},
     "output_type": "execute_result"
    }
   ],
   "source": [
    "most_freq_elip.head(25)"
   ]
  },
  {
   "cell_type": "code",
   "execution_count": 176,
   "metadata": {},
   "outputs": [],
   "source": [
    "X_train = X_train['body']\n",
    "X_test = X_test['body']"
   ]
  },
  {
   "cell_type": "code",
   "execution_count": 177,
   "metadata": {
    "scrolled": true
   },
   "outputs": [],
   "source": [
    "# Logistic Regression with LASSO regularization. gridsearched over differed C values to try to find best one\n",
    "# l1_pipe = Pipeline([\n",
    "#     ('cvec', CountVectorizer(stop_words = 'english')),\n",
    "#     ('lr', LogisticRegressionCV(penalty = 'l1', solver = 'liblinear',  random_state = 37))\n",
    "# ])\n",
    "\n",
    "# log_params = {\n",
    "#     'lr__Cs': [2, 4, 10, 15],\n",
    "#     'cvec__max_features': [3000, 4000, 5000],\n",
    "#     'cvec__min_df': [2, 3],\n",
    "#     'cvec__ngram_range': [(1, 1), (1, 2)]\n",
    "# }\n",
    "\n",
    "\n",
    "# l1_gs = GridSearchCV(l1_pipe, log_params, cv = 4, verbose = 1)\n",
    "# l1_gs.fit(X_train, y_train)\n",
    "# l1_gs.score(X_train, y_train), l1_gs.score(X_test, y_test)"
   ]
  },
  {
   "cell_type": "code",
   "execution_count": 178,
   "metadata": {
    "scrolled": true
   },
   "outputs": [
    {
     "data": {
      "text/plain": [
       "{}"
      ]
     },
     "execution_count": 178,
     "metadata": {},
     "output_type": "execute_result"
    }
   ],
   "source": [
    "l1_gs.best_params_\n",
    "# some of my features are at the top end so i'll try a search where I go higher"
   ]
  },
  {
   "cell_type": "code",
   "execution_count": 179,
   "metadata": {},
   "outputs": [
    {
     "name": "stdout",
     "output_type": "stream",
     "text": [
      "Fitting 5 folds for each of 1 candidates, totalling 5 fits\n"
     ]
    },
    {
     "name": "stderr",
     "output_type": "stream",
     "text": [
      "[Parallel(n_jobs=1)]: Using backend SequentialBackend with 1 concurrent workers.\n",
      "[Parallel(n_jobs=1)]: Done   5 out of   5 | elapsed:   23.4s finished\n"
     ]
    },
    {
     "data": {
      "text/plain": [
       "(1.0, 0.708)"
      ]
     },
     "execution_count": 179,
     "metadata": {},
     "output_type": "execute_result"
    }
   ],
   "source": [
    "# second and third try with different parameters. the test score of .75 is better than previous of .71\n",
    "l1_pipe = Pipeline([\n",
    "    ('cvec', CountVectorizer(stop_words = 'english', ngram_range = (1,2), max_features = 100000)),\n",
    "#     ('ssc', StandardScaler()),\n",
    "    ('lr', LogisticRegressionCV(penalty = 'l1', solver = 'liblinear', Cs = 30,  random_state = 37, cv = 5))\n",
    "])\n",
    "\n",
    "# I have commented out the parameters that I searched on my second attempt and made a more narrow search.\n",
    "# Afterwards, I added the best parameters into the pipeline\n",
    "log_params = {\n",
    "\n",
    "#     'lr__Cs': [15, 20, 50],\n",
    "#     'lr__Cs': [20, 30, 40],\n",
    "#     'cvec__max_features': [None, 5000, 10000],\n",
    "#     'cvec__max_features': [10000, 20000, 30000],\n",
    "#     'cvec__max_features': [30000, 50000, 100000]\n",
    "#     'cvec__min_df': [1,2]\n",
    "    \n",
    "}\n",
    "\n",
    "\n",
    "l1_gs = GridSearchCV(l1_pipe, log_params, cv = 5, verbose = 1)\n",
    "l1_gs.fit(X_train, y_train)\n",
    "l1_gs.score(X_train, y_train), l1_gs.score(X_test, y_test)"
   ]
  },
  {
   "cell_type": "markdown",
   "metadata": {},
   "source": [
    "# lr.coef_"
   ]
  },
  {
   "cell_type": "code",
   "execution_count": 172,
   "metadata": {},
   "outputs": [
    {
     "data": {
      "text/plain": [
       "{}"
      ]
     },
     "execution_count": 172,
     "metadata": {},
     "output_type": "execute_result"
    }
   ],
   "source": [
    "l1_gs.best_params_"
   ]
  },
  {
   "cell_type": "code",
   "execution_count": 185,
   "metadata": {},
   "outputs": [
    {
     "data": {
      "text/plain": [
       "Pipeline(memory=None,\n",
       "         steps=[('cvec',\n",
       "                 CountVectorizer(analyzer='word', binary=False,\n",
       "                                 decode_error='strict',\n",
       "                                 dtype=<class 'numpy.int64'>, encoding='utf-8',\n",
       "                                 input='content', lowercase=True, max_df=1.0,\n",
       "                                 max_features=4000, min_df=2,\n",
       "                                 ngram_range=(1, 2), preprocessor=None,\n",
       "                                 stop_words='english', strip_accents=None,\n",
       "                                 token_pattern='(?u)\\\\b\\\\w\\\\w+\\\\b',\n",
       "                                 tokenizer=None, vocabulary=None)),\n",
       "                ('lr',\n",
       "                 LogisticRegressionCV(Cs=4, class_weight=None, cv=None,\n",
       "                                      dual=False, fit_intercept=True,\n",
       "                                      intercept_scaling=1.0, l1_ratios=None,\n",
       "                                      max_iter=1000, multi_class='auto',\n",
       "                                      n_jobs=None, penalty='l2',\n",
       "                                      random_state=37, refit=True, scoring=None,\n",
       "                                      solver='lbfgs', tol=0.0001, verbose=0))],\n",
       "         verbose=False)"
      ]
     },
     "execution_count": 185,
     "metadata": {},
     "output_type": "execute_result"
    }
   ],
   "source": [
    "# fails to converge. needs attention\n",
    "l2_pipe = Pipeline([\n",
    "    ('cvec', CountVectorizer(stop_words = 'english', max_features = 4000, ngram_range = (1,2), min_df = 2)),\n",
    "    ('lr', LogisticRegressionCV(random_state = 37, max_iter = 1000, Cs = 4))\n",
    "])\n",
    "\n",
    "log_params = {\n",
    "#     'lr__Cs': [2, 4, 10, 15],\n",
    "#     'cvec__max_features': [3000, 4000, 5000],\n",
    "    'cvec__min_df': [1,2],\n",
    "#     'cvec__ngram_range': [(1, 1), (1, 2)]\n",
    "}\n",
    "\n",
    "# l2_gs = GridSearchCV(l2_pipe, log_params, cv =4, verbose = 1)\n",
    "# l2_gs.fit(X_train, y_train)\n",
    "# l2_gs.score(X_train, y_train), l2_gs.score(X_test, y_test)\n",
    "l2_pipe.fit(X_train, y_train)"
   ]
  },
  {
   "cell_type": "code",
   "execution_count": null,
   "metadata": {},
   "outputs": [],
   "source": [
    "l2_gs.best_params_"
   ]
  },
  {
   "cell_type": "code",
   "execution_count": null,
   "metadata": {},
   "outputs": [],
   "source": [
    "# does not work yet. will debug if time\n",
    "\n",
    "\n",
    "# en_pipe = Pipeline([\n",
    "#     ('cvec', CountVectorizer(stop_words = 'english')),\n",
    "#     ('lr', LogisticRegressionCV(penalty = 'elasticnet', solver = 'saga', random_state = 37))\n",
    "# ])\n",
    "\n",
    "# en_gs = GridSearchCV(en_pipe, log_params, cv = 4, verbose = 1)\n",
    "# en_gs.fit(X_train, y_train)\n",
    "# en_gs.score(X_train, y_train), en_gs.score(X_test, y_test)"
   ]
  },
  {
   "cell_type": "code",
   "execution_count": 186,
   "metadata": {
    "scrolled": true
   },
   "outputs": [
    {
     "name": "stdout",
     "output_type": "stream",
     "text": [
      "Fitting 4 folds for each of 6 candidates, totalling 24 fits\n"
     ]
    },
    {
     "name": "stderr",
     "output_type": "stream",
     "text": [
      "[Parallel(n_jobs=1)]: Using backend SequentialBackend with 1 concurrent workers.\n",
      "[Parallel(n_jobs=1)]: Done  24 out of  24 | elapsed:    2.9s finished\n"
     ]
    },
    {
     "data": {
      "text/plain": [
       "(0.616, 0.582)"
      ]
     },
     "execution_count": 186,
     "metadata": {},
     "output_type": "execute_result"
    }
   ],
   "source": [
    "# decision tree. I reduced some hyperparamters for cvecbecause it was taking too long to run\n",
    "\n",
    "tree_pipe = Pipeline([\n",
    "    ('cvec', CountVectorizer(stop_words = 'english', max_features = 5000, min_df = 2)),\n",
    "    ('d_tree', DecisionTreeClassifier(random_state = 37, max_depth = 7)),    \n",
    "])\n",
    "\n",
    "dt_params = {\n",
    "#     'd_tree__min_samples_split': [5, 10, 15, 20],\n",
    "    'd_tree__min_samples_split': [2, 3, 5],\n",
    "#     'd_tree__min_samples_leaf': [2, 3, 4, 5, 6],\n",
    "    'd_tree__min_samples_leaf': [1,2],\n",
    "#     'd_tree__ccp_alpha': [0, 0.001, 0.01, 0.1, 1, 10],\n",
    "#     'cvec__ngram_range': [(1, 1), (1, 2)]\n",
    "}\n",
    "d_tree_gs = GridSearchCV(tree_pipe, dt_params, cv = 4, verbose = 1)\n",
    "d_tree_gs.fit(X_train, y_train)\n",
    "d_tree_gs.score(X_train, y_train), d_tree_gs.score(X_test, y_test)"
   ]
  },
  {
   "cell_type": "code",
   "execution_count": 187,
   "metadata": {},
   "outputs": [
    {
     "data": {
      "text/plain": [
       "Pipeline(memory=None,\n",
       "         steps=[('cvec',\n",
       "                 CountVectorizer(analyzer='word', binary=False,\n",
       "                                 decode_error='strict',\n",
       "                                 dtype=<class 'numpy.int64'>, encoding='utf-8',\n",
       "                                 input='content', lowercase=True, max_df=1.0,\n",
       "                                 max_features=5000, min_df=2,\n",
       "                                 ngram_range=(1, 1), preprocessor=None,\n",
       "                                 stop_words='english', strip_accents=None,\n",
       "                                 token_pattern='(?u)\\\\b\\\\w\\\\w+\\\\b',\n",
       "                                 tokenizer=None, vocabulary=None)),\n",
       "                ('d_tree',\n",
       "                 DecisionTreeClassifier(ccp_alpha=0.0, class_weight=None,\n",
       "                                        criterion='gini', max_depth=7,\n",
       "                                        max_features=None, max_leaf_nodes=None,\n",
       "                                        min_impurity_decrease=0.0,\n",
       "                                        min_impurity_split=None,\n",
       "                                        min_samples_leaf=2, min_samples_split=2,\n",
       "                                        min_weight_fraction_leaf=0.0,\n",
       "                                        presort='deprecated', random_state=37,\n",
       "                                        splitter='best'))],\n",
       "         verbose=False)"
      ]
     },
     "execution_count": 187,
     "metadata": {},
     "output_type": "execute_result"
    }
   ],
   "source": [
    "tree_pipe = Pipeline([\n",
    "    ('cvec', CountVectorizer(stop_words = 'english', max_features = 5000, min_df = 2)),\n",
    "    ('d_tree', DecisionTreeClassifier(random_state = 37, max_depth = 7, min_samples_leaf = 2)),    \n",
    "])\n",
    "tree_pipe.fit(X_train, y_train)"
   ]
  },
  {
   "cell_type": "code",
   "execution_count": 188,
   "metadata": {},
   "outputs": [
    {
     "data": {
      "text/plain": [
       "{'d_tree__min_samples_leaf': 1, 'd_tree__min_samples_split': 2}"
      ]
     },
     "execution_count": 188,
     "metadata": {},
     "output_type": "execute_result"
    }
   ],
   "source": [
    "# the variance on this model is pretty decent. I will not try another grid search\n",
    "d_tree_gs.best_params_"
   ]
  },
  {
   "cell_type": "code",
   "execution_count": 189,
   "metadata": {},
   "outputs": [
    {
     "name": "stdout",
     "output_type": "stream",
     "text": [
      "Fitting 5 folds for each of 9 candidates, totalling 45 fits\n"
     ]
    },
    {
     "name": "stderr",
     "output_type": "stream",
     "text": [
      "[Parallel(n_jobs=1)]: Using backend SequentialBackend with 1 concurrent workers.\n",
      "[Parallel(n_jobs=1)]: Done  45 out of  45 | elapsed:  6.0min finished\n"
     ]
    },
    {
     "data": {
      "text/plain": [
       "(0.9986666666666667, 0.684)"
      ]
     },
     "execution_count": 189,
     "metadata": {},
     "output_type": "execute_result"
    }
   ],
   "source": [
    "# bagged decision trees\n",
    "\n",
    "bagger_pipe = Pipeline([\n",
    "    ('cvec', CountVectorizer(stop_words = 'english',)),\n",
    "    ('bagger', BaggingClassifier(random_state = 37))\n",
    "])\n",
    "\n",
    "bag_params = {\n",
    "    'bagger__n_estimators': [50, 100, 200],\n",
    "#     'cvec__max_features': [3000, 4000, 5000],\n",
    "    'cvec__max_features': [1000, 2000, 3000],\n",
    "#     'cvec__min_df': [2, 3],\n",
    "#     'cvec__ngram_range': [(1, 1), (1, 2)]\n",
    "}\n",
    "bagger_gs = GridSearchCV(bagger_pipe, bag_params, cv = 5, verbose = 1)\n",
    "bagger_gs.fit(X_train, y_train)\n",
    "bagger_gs.score(X_train, y_train), bagger_gs.score(X_test, y_test)"
   ]
  },
  {
   "cell_type": "code",
   "execution_count": 190,
   "metadata": {
    "scrolled": true
   },
   "outputs": [
    {
     "data": {
      "text/plain": [
       "{'bagger__n_estimators': 100, 'cvec__max_features': 3000}"
      ]
     },
     "execution_count": 190,
     "metadata": {},
     "output_type": "execute_result"
    }
   ],
   "source": [
    "bagger_gs.best_params_"
   ]
  },
  {
   "cell_type": "code",
   "execution_count": 191,
   "metadata": {},
   "outputs": [
    {
     "data": {
      "text/plain": [
       "Pipeline(memory=None,\n",
       "         steps=[('cvec',\n",
       "                 CountVectorizer(analyzer='word', binary=False,\n",
       "                                 decode_error='strict',\n",
       "                                 dtype=<class 'numpy.int64'>, encoding='utf-8',\n",
       "                                 input='content', lowercase=True, max_df=1.0,\n",
       "                                 max_features=3000, min_df=2,\n",
       "                                 ngram_range=(1, 1), preprocessor=None,\n",
       "                                 stop_words='english', strip_accents=None,\n",
       "                                 token_pattern='(?u)\\\\b\\\\w\\\\w+\\\\b',\n",
       "                                 tokenizer=None, vocabulary=None)),\n",
       "                ('bagger',\n",
       "                 BaggingClassifier(base_estimator=None, bootstrap=True,\n",
       "                                   bootstrap_features=False, max_features=1.0,\n",
       "                                   max_samples=1.0, n_estimators=50,\n",
       "                                   n_jobs=None, oob_score=False,\n",
       "                                   random_state=37, verbose=0,\n",
       "                                   warm_start=False))],\n",
       "         verbose=False)"
      ]
     },
     "execution_count": 191,
     "metadata": {},
     "output_type": "execute_result"
    }
   ],
   "source": [
    "bagger_pipe = Pipeline([\n",
    "    ('cvec', CountVectorizer(stop_words = 'english', max_features = 3000, min_df = 2)),\n",
    "    ('bagger', BaggingClassifier(random_state = 37, n_estimators = 50))\n",
    "])\n",
    "bagger_pipe.fit(X_train, y_train)"
   ]
  },
  {
   "cell_type": "code",
   "execution_count": 192,
   "metadata": {},
   "outputs": [],
   "source": [
    "# copied from GL 6.04\n",
    "\n",
    "gboost_pipe = Pipeline([\n",
    "    ('cvec', CountVectorizer(stop_words = 'english', max_features = 5000, min_df = 2)),\n",
    "    ('gboost', GradientBoostingClassifier())\n",
    "])\n",
    "\n",
    "gboost_params = {\n",
    "    'gboost__max_depth': [2,3,4],\n",
    "    'gboost__n_estimators': [100, 125, 150],\n",
    "    'gboost__learning_rate': [.08, .1, .12],\n",
    "    'cvec__ngram_range': [(1, 1), (1, 2)]\n",
    "}\n",
    "gboost_gs = GridSearchCV(gboost_pipe, param_grid=gboost_params, cv=3)\n",
    "# gboost_gs.fit(X_train, y_train)\n",
    "# gboost_gs.score(X_train, y_train), gboost_gs.score(X_test, y_test)"
   ]
  },
  {
   "cell_type": "code",
   "execution_count": 194,
   "metadata": {},
   "outputs": [
    {
     "data": {
      "text/plain": [
       "Pipeline(memory=None,\n",
       "         steps=[('cvec',\n",
       "                 CountVectorizer(analyzer='word', binary=False,\n",
       "                                 decode_error='strict',\n",
       "                                 dtype=<class 'numpy.int64'>, encoding='utf-8',\n",
       "                                 input='content', lowercase=True, max_df=1.0,\n",
       "                                 max_features=5000, min_df=2,\n",
       "                                 ngram_range=(1, 2), preprocessor=None,\n",
       "                                 stop_words='english', strip_accents=None,\n",
       "                                 token_pattern='(?u)\\\\b\\\\w\\\\w+\\\\b',\n",
       "                                 tokenizer=None, vocabular...\n",
       "                                            learning_rate=0.08, loss='deviance',\n",
       "                                            max_depth=4, max_features=None,\n",
       "                                            max_leaf_nodes=None,\n",
       "                                            min_impurity_decrease=0.0,\n",
       "                                            min_impurity_split=None,\n",
       "                                            min_samples_leaf=1,\n",
       "                                            min_samples_split=2,\n",
       "                                            min_weight_fraction_leaf=0.0,\n",
       "                                            n_estimators=100,\n",
       "                                            n_iter_no_change=None,\n",
       "                                            presort='deprecated',\n",
       "                                            random_state=None, subsample=1.0,\n",
       "                                            tol=0.0001, validation_fraction=0.1,\n",
       "                                            verbose=0, warm_start=False))],\n",
       "         verbose=False)"
      ]
     },
     "execution_count": 194,
     "metadata": {},
     "output_type": "execute_result"
    }
   ],
   "source": [
    "# not yet optimized\n",
    "gboost_pipe = Pipeline([\n",
    "    ('cvec', CountVectorizer(stop_words = 'english', max_features = 5000, min_df = 2, ngram_range = (1, 2))),\n",
    "    ('gboost', GradientBoostingClassifier(learning_rate = .08, max_depth = 4, n_estimators = 100))\n",
    "])\n",
    "gboost_pipe.fit(X_train, y_train)"
   ]
  },
  {
   "cell_type": "code",
   "execution_count": 195,
   "metadata": {},
   "outputs": [
    {
     "data": {
      "text/plain": [
       "(0.9613333333333334, 0.686)"
      ]
     },
     "execution_count": 195,
     "metadata": {},
     "output_type": "execute_result"
    }
   ],
   "source": [
    "# copied from GL 6.04\n",
    "\n",
    "ada_pipe = Pipeline([\n",
    "    ('cvec', CountVectorizer(stop_words = 'english', max_features = 5000, min_df = 2)),\n",
    "    ('ada', AdaBoostClassifier(base_estimator=DecisionTreeClassifier()))\n",
    "])\n",
    "\n",
    "ada_params = {\n",
    "    'ada__n_estimators': [50,100],\n",
    "    'ada__base_estimator__max_depth': [1,2],\n",
    "    'ada__learning_rate': [.9, 1.],\n",
    "    'cvec__ngram_range': [(1, 1), (1, 2)]\n",
    "}\n",
    "ada_gs = GridSearchCV(ada_pipe, param_grid=ada_params, cv=3)\n",
    "ada_gs.fit(X_train, y_train)\n",
    "ada_gs.score(X_train, y_train), ada_gs.score(X_test, y_test)"
   ]
  },
  {
   "cell_type": "code",
   "execution_count": null,
   "metadata": {
    "scrolled": true
   },
   "outputs": [],
   "source": [
    "ada_gs.best_params_"
   ]
  },
  {
   "cell_type": "code",
   "execution_count": 196,
   "metadata": {},
   "outputs": [
    {
     "data": {
      "text/plain": [
       "Pipeline(memory=None,\n",
       "         steps=[('cvec',\n",
       "                 CountVectorizer(analyzer='word', binary=False,\n",
       "                                 decode_error='strict',\n",
       "                                 dtype=<class 'numpy.int64'>, encoding='utf-8',\n",
       "                                 input='content', lowercase=True, max_df=1.0,\n",
       "                                 max_features=5000, min_df=2,\n",
       "                                 ngram_range=(1, 2), preprocessor=None,\n",
       "                                 stop_words='english', strip_accents=None,\n",
       "                                 token_pattern='(?u)\\\\b\\\\w\\\\w+\\\\b',\n",
       "                                 tokenizer=None, vocabular...\n",
       "                                    base_estimator=DecisionTreeClassifier(ccp_alpha=0.0,\n",
       "                                                                          class_weight=None,\n",
       "                                                                          criterion='gini',\n",
       "                                                                          max_depth=None,\n",
       "                                                                          max_features=None,\n",
       "                                                                          max_leaf_nodes=None,\n",
       "                                                                          min_impurity_decrease=0.0,\n",
       "                                                                          min_impurity_split=None,\n",
       "                                                                          min_samples_leaf=1,\n",
       "                                                                          min_samples_split=2,\n",
       "                                                                          min_weight_fraction_leaf=0.0,\n",
       "                                                                          presort='deprecated',\n",
       "                                                                          random_state=None,\n",
       "                                                                          splitter='best'),\n",
       "                                    learning_rate=1, n_estimators=100,\n",
       "                                    random_state=None))],\n",
       "         verbose=False)"
      ]
     },
     "execution_count": 196,
     "metadata": {},
     "output_type": "execute_result"
    }
   ],
   "source": [
    "ada_pipe = Pipeline([\n",
    "    ('cvec', CountVectorizer(stop_words = 'english', max_features = 5000, min_df = 2, ngram_range = (1,2))),\n",
    "    ('ada', AdaBoostClassifier(base_estimator=DecisionTreeClassifier(), learning_rate = 1, n_estimators = 100))\n",
    "])\n",
    "ada_pipe.fit(X_train, y_train)"
   ]
  },
  {
   "cell_type": "code",
   "execution_count": 197,
   "metadata": {},
   "outputs": [
    {
     "data": {
      "text/plain": [
       "(0.8753333333333333, 0.7)"
      ]
     },
     "execution_count": 197,
     "metadata": {},
     "output_type": "execute_result"
    }
   ],
   "source": [
    "# random forest model with help from GL 6.03\n",
    "\n",
    "rf_pipe = Pipeline([\n",
    "    ('cvec', CountVectorizer(stop_words = 'english', max_features = 5000, min_df = 2)),\n",
    "    ('rf', RandomForestClassifier(random_state = 37))\n",
    "])\n",
    "\n",
    "rf_params = {\n",
    "    'rf__max_depth': [3, 5, 7, 10],\n",
    "    'rf__min_samples_split': [2,3],\n",
    "    'rf__max_features': [None, 'auto'],\n",
    "    'rf__n_estimators': [75, 100, 125],\n",
    "    'cvec__ngram_range': [(1, 1), (1, 2)]\n",
    "}\n",
    "forest_gs = GridSearchCV(rf_pipe, param_grid = rf_params)\n",
    "forest_gs.fit(X_train, y_train)\n",
    "forest_gs.score(X_train, y_train), forest_gs.score(X_test, y_test)"
   ]
  },
  {
   "cell_type": "code",
   "execution_count": 198,
   "metadata": {
    "scrolled": true
   },
   "outputs": [
    {
     "data": {
      "text/plain": [
       "{'cvec__ngram_range': (1, 2),\n",
       " 'rf__max_depth': 10,\n",
       " 'rf__max_features': 'auto',\n",
       " 'rf__min_samples_split': 2,\n",
       " 'rf__n_estimators': 125}"
      ]
     },
     "execution_count": 198,
     "metadata": {},
     "output_type": "execute_result"
    }
   ],
   "source": [
    "forest_gs.best_params_"
   ]
  },
  {
   "cell_type": "code",
   "execution_count": 199,
   "metadata": {},
   "outputs": [
    {
     "data": {
      "text/plain": [
       "Pipeline(memory=None,\n",
       "         steps=[('cvec',\n",
       "                 CountVectorizer(analyzer='word', binary=False,\n",
       "                                 decode_error='strict',\n",
       "                                 dtype=<class 'numpy.int64'>, encoding='utf-8',\n",
       "                                 input='content', lowercase=True, max_df=1.0,\n",
       "                                 max_features=5000, min_df=2,\n",
       "                                 ngram_range=(1, 1), preprocessor=None,\n",
       "                                 stop_words='english', strip_accents=None,\n",
       "                                 token_pattern='(?u)\\\\b\\\\w\\\\w+\\\\b',\n",
       "                                 tokenizer=None, vocabular...\n",
       "                 RandomForestClassifier(bootstrap=True, ccp_alpha=0.0,\n",
       "                                        class_weight=None, criterion='gini',\n",
       "                                        max_depth=10, max_features='auto',\n",
       "                                        max_leaf_nodes=None, max_samples=None,\n",
       "                                        min_impurity_decrease=0.0,\n",
       "                                        min_impurity_split=None,\n",
       "                                        min_samples_leaf=1, min_samples_split=2,\n",
       "                                        min_weight_fraction_leaf=0.0,\n",
       "                                        n_estimators=125, n_jobs=None,\n",
       "                                        oob_score=False, random_state=37,\n",
       "                                        verbose=0, warm_start=False))],\n",
       "         verbose=False)"
      ]
     },
     "execution_count": 199,
     "metadata": {},
     "output_type": "execute_result"
    }
   ],
   "source": [
    "rf_pipe = Pipeline([\n",
    "    ('cvec', CountVectorizer(stop_words = 'english', max_features = 5000, min_df = 2)),\n",
    "    ('rf', RandomForestClassifier(random_state = 37, max_depth = 10, n_estimators = 125))\n",
    "])\n",
    "rf_pipe.fit(X_train, y_train)"
   ]
  },
  {
   "cell_type": "code",
   "execution_count": 200,
   "metadata": {},
   "outputs": [
    {
     "data": {
      "text/plain": [
       "(0.99, 0.702)"
      ]
     },
     "execution_count": 200,
     "metadata": {},
     "output_type": "execute_result"
    }
   ],
   "source": [
    "mnb_pipe = Pipeline([\n",
    "    ('cvec', CountVectorizer(stop_words = 'english', ngram_range = (1,2))),\n",
    "     ('mnb', MultinomialNB())\n",
    "])\n",
    "mnb_pipe.fit(X_train, y_train)\n",
    "mnb_pipe.score(X_train, y_train), mnb_pipe.score(X_test, y_test)"
   ]
  },
  {
   "cell_type": "code",
   "execution_count": 201,
   "metadata": {},
   "outputs": [],
   "source": [
    "# Tried this. does not work\n",
    "\n",
    "# vote = VotingClassifier([\n",
    "#     ('ada', ada_gs),\n",
    "#     ('grad_boost', gboost_gs),\n",
    "#     ('random_forest', forest_gs),\n",
    "#     ('bagger', bagger),\n",
    "#     ('d_tree', d_tree_gs),\n",
    "#     ('l1_pipe', l1_gs),\n",
    "#     ('l2_pipe', l2_gs),\n",
    "#     ('en_pipe', en_gs),\n",
    "#     ('bayes', MultinomialNB())\n",
    "    \n",
    "# ])\n"
   ]
  },
  {
   "cell_type": "code",
   "execution_count": 203,
   "metadata": {},
   "outputs": [
    {
     "data": {
      "text/plain": [
       "VotingClassifier(estimators=[('ada',\n",
       "                              Pipeline(memory=None,\n",
       "                                       steps=[('cvec',\n",
       "                                               CountVectorizer(analyzer='word',\n",
       "                                                               binary=False,\n",
       "                                                               decode_error='strict',\n",
       "                                                               dtype=<class 'numpy.int64'>,\n",
       "                                                               encoding='utf-8',\n",
       "                                                               input='content',\n",
       "                                                               lowercase=True,\n",
       "                                                               max_df=1.0,\n",
       "                                                               max_features=5000,\n",
       "                                                               min_df=2,\n",
       "                                                               ngram_range=(1,\n",
       "                                                                            2),\n",
       "                                                               preprocessor=None,\n",
       "                                                               stop_words='english',\n",
       "                                                               strip_accents=None,\n",
       "                                                               token_pattern='(?u)\\\\b...\n",
       "                                                               max_df=1.0,\n",
       "                                                               max_features=None,\n",
       "                                                               min_df=1,\n",
       "                                                               ngram_range=(1,\n",
       "                                                                            2),\n",
       "                                                               preprocessor=None,\n",
       "                                                               stop_words='english',\n",
       "                                                               strip_accents=None,\n",
       "                                                               token_pattern='(?u)\\\\b\\\\w\\\\w+\\\\b',\n",
       "                                                               tokenizer=None,\n",
       "                                                               vocabulary=None)),\n",
       "                                              ('mnb',\n",
       "                                               MultinomialNB(alpha=1.0,\n",
       "                                                             class_prior=None,\n",
       "                                                             fit_prior=True))],\n",
       "                                       verbose=False))],\n",
       "                 flatten_transform=True, n_jobs=None, voting='hard',\n",
       "                 weights=[0.08, 0.08, 0.1, 0.12, 0.02, 0.2, 0.2, 0.2])"
      ]
     },
     "execution_count": 203,
     "metadata": {},
     "output_type": "execute_result"
    }
   ],
   "source": [
    "vote = VotingClassifier([\n",
    "    ('ada', ada_pipe), #.67\n",
    "    ('grad_boost', gboost_pipe), #.68\n",
    "    ('random_forest', rf_pipe), #.69\n",
    "    ('bagger', bagger_pipe), #.716\n",
    "    ('d_tree', tree_pipe), #.59\n",
    "    ('l1_pipe', l1_pipe), #.75\n",
    "    ('l2_pipe', l2_pipe), #.73\n",
    "#     ('en_pipe', en_gs),\n",
    "    ('bayes', mnb_pipe) #.75\n",
    "], weights = [.08, .08, .1, .12, .02, .2, .2, .2])\n",
    "\n",
    "vote.fit(X_train, y_train)"
   ]
  },
  {
   "cell_type": "code",
   "execution_count": 204,
   "metadata": {},
   "outputs": [
    {
     "data": {
      "text/plain": [
       "(0.9973333333333333, 0.72)"
      ]
     },
     "execution_count": 204,
     "metadata": {},
     "output_type": "execute_result"
    }
   ],
   "source": [
    "vote.score(X_train, y_train), vote.score(X_test, y_test)"
   ]
  },
  {
   "cell_type": "code",
   "execution_count": 205,
   "metadata": {},
   "outputs": [
    {
     "data": {
      "text/plain": [
       "array([[177,  73],\n",
       "       [ 67, 183]])"
      ]
     },
     "execution_count": 205,
     "metadata": {},
     "output_type": "execute_result"
    }
   ],
   "source": [
    "preds = vote.predict(X_test)\n",
    "cm = confusion_matrix(y_test, preds)\n",
    "cm"
   ]
  },
  {
   "cell_type": "code",
   "execution_count": 206,
   "metadata": {},
   "outputs": [
    {
     "data": {
      "text/plain": [
       "<sklearn.metrics._plot.confusion_matrix.ConfusionMatrixDisplay at 0x7fa19b921c50>"
      ]
     },
     "execution_count": 206,
     "metadata": {},
     "output_type": "execute_result"
    },
    {
     "data": {
      "image/png": "[encoded data removed]",
      "text/plain": [
       "<Figure size 432x288 with 2 Axes>"
      ]
     },
     "metadata": {
      "needs_background": "light"
     },
     "output_type": "display_data"
    }
   ],
   "source": [
    "plot_confusion_matrix(vote, X_test, y_test, cmap = 'Blues', values_format = 'd')"
   ]
  },
  {
   "cell_type": "code",
   "execution_count": 202,
   "metadata": {},
   "outputs": [],
   "source": [
    "tn, fp, fn, tp = confusion_matrix(y_test, preds).ravel()"
   ]
  },
  {
   "cell_type": "code",
   "execution_count": 203,
   "metadata": {},
   "outputs": [
    {
     "data": {
      "text/plain": [
       "0.756"
      ]
     },
     "execution_count": 203,
     "metadata": {},
     "output_type": "execute_result"
    }
   ],
   "source": [
    "# specificity\n",
    "tn / (tn + fp)"
   ]
  },
  {
   "cell_type": "code",
   "execution_count": 204,
   "metadata": {},
   "outputs": [
    {
     "data": {
      "text/plain": [
       "0.756"
      ]
     },
     "execution_count": 204,
     "metadata": {},
     "output_type": "execute_result"
    }
   ],
   "source": [
    "# sensitivity\n",
    "tp / (tp+fn)"
   ]
  },
  {
   "cell_type": "code",
   "execution_count": 215,
   "metadata": {},
   "outputs": [],
   "source": [
    "test_df = pd.DataFrame(y_test)"
   ]
  },
  {
   "cell_type": "code",
   "execution_count": 216,
   "metadata": {},
   "outputs": [],
   "source": [
    "preds_df = pd.DataFrame(preds)"
   ]
  },
  {
   "cell_type": "code",
   "execution_count": 223,
   "metadata": {},
   "outputs": [
    {
     "data": {
      "text/plain": [
       "(500, 1)"
      ]
     },
     "execution_count": 223,
     "metadata": {},
     "output_type": "execute_result"
    }
   ],
   "source": [
    "test_df.shape"
   ]
  },
  {
   "cell_type": "code",
   "execution_count": 225,
   "metadata": {},
   "outputs": [
    {
     "data": {
      "text/plain": [
       "0    0\n",
       "dtype: int64"
      ]
     },
     "execution_count": 225,
     "metadata": {},
     "output_type": "execute_result"
    }
   ],
   "source": [
    "preds_df.isna().sum()"
   ]
  },
  {
   "cell_type": "code",
   "execution_count": 236,
   "metadata": {
    "scrolled": false
   },
   "outputs": [],
   "source": [
    "comparison = test_df.join(preds_df)"
   ]
  },
  {
   "cell_type": "code",
   "execution_count": 237,
   "metadata": {},
   "outputs": [
    {
     "data": {
      "text/html": [
       "<div>\n",
       "<style scoped>\n",
       "    .dataframe tbody tr th:only-of-type {\n",
       "        vertical-align: middle;\n",
       "    }\n",
       "\n",
       "    .dataframe tbody tr th {\n",
       "        vertical-align: top;\n",
       "    }\n",
       "\n",
       "    .dataframe thead th {\n",
       "        text-align: right;\n",
       "    }\n",
       "</style>\n",
       "<table border=\"1\" class=\"dataframe\">\n",
       "  <thead>\n",
       "    <tr style=\"text-align: right;\">\n",
       "      <th></th>\n",
       "      <th>subreddit</th>\n",
       "      <th>0</th>\n",
       "    </tr>\n",
       "  </thead>\n",
       "  <tbody>\n",
       "    <tr>\n",
       "      <th>15</th>\n",
       "      <td>1</td>\n",
       "      <td>1.0</td>\n",
       "    </tr>\n",
       "    <tr>\n",
       "      <th>21</th>\n",
       "      <td>0</td>\n",
       "      <td>0.0</td>\n",
       "    </tr>\n",
       "    <tr>\n",
       "      <th>31</th>\n",
       "      <td>0</td>\n",
       "      <td>1.0</td>\n",
       "    </tr>\n",
       "    <tr>\n",
       "      <th>38</th>\n",
       "      <td>0</td>\n",
       "      <td>0.0</td>\n",
       "    </tr>\n",
       "    <tr>\n",
       "      <th>42</th>\n",
       "      <td>1</td>\n",
       "      <td>1.0</td>\n",
       "    </tr>\n",
       "    <tr>\n",
       "      <th>...</th>\n",
       "      <td>...</td>\n",
       "      <td>...</td>\n",
       "    </tr>\n",
       "    <tr>\n",
       "      <th>3597</th>\n",
       "      <td>0</td>\n",
       "      <td>NaN</td>\n",
       "    </tr>\n",
       "    <tr>\n",
       "      <th>3614</th>\n",
       "      <td>0</td>\n",
       "      <td>NaN</td>\n",
       "    </tr>\n",
       "    <tr>\n",
       "      <th>3617</th>\n",
       "      <td>0</td>\n",
       "      <td>NaN</td>\n",
       "    </tr>\n",
       "    <tr>\n",
       "      <th>3632</th>\n",
       "      <td>0</td>\n",
       "      <td>NaN</td>\n",
       "    </tr>\n",
       "    <tr>\n",
       "      <th>3635</th>\n",
       "      <td>0</td>\n",
       "      <td>NaN</td>\n",
       "    </tr>\n",
       "  </tbody>\n",
       "</table>\n",
       "<p>500 rows × 2 columns</p>\n",
       "</div>"
      ],
      "text/plain": [
       "      subreddit    0\n",
       "15            1  1.0\n",
       "21            0  0.0\n",
       "31            0  1.0\n",
       "38            0  0.0\n",
       "42            1  1.0\n",
       "...         ...  ...\n",
       "3597          0  NaN\n",
       "3614          0  NaN\n",
       "3617          0  NaN\n",
       "3632          0  NaN\n",
       "3635          0  NaN\n",
       "\n",
       "[500 rows x 2 columns]"
      ]
     },
     "execution_count": 237,
     "metadata": {},
     "output_type": "execute_result"
    }
   ],
   "source": [
    "comparison"
   ]
  },
  {
   "cell_type": "code",
   "execution_count": 239,
   "metadata": {
    "scrolled": true
   },
   "outputs": [],
   "source": [
    "comparisons = pd.DataFrame(X_test).join(pd.DataFrame(comparison))"
   ]
  },
  {
   "cell_type": "code",
   "execution_count": 240,
   "metadata": {},
   "outputs": [
    {
     "data": {
      "text/plain": [
       "body           0\n",
       "subreddit      0\n",
       "0            456\n",
       "dtype: int64"
      ]
     },
     "execution_count": 240,
     "metadata": {},
     "output_type": "execute_result"
    }
   ],
   "source": [
    "comparisons.isna().sum()"
   ]
  },
  {
   "cell_type": "code",
   "execution_count": 79,
   "metadata": {},
   "outputs": [
    {
     "data": {
      "text/plain": [
       "(0.8586666666666667, 0.734)"
      ]
     },
     "execution_count": 79,
     "metadata": {},
     "output_type": "execute_result"
    }
   ],
   "source": [
    "final_pipe.score(X_train, y_train), final_pipe.score(X_test, y_test)"
   ]
  },
  {
   "cell_type": "code",
   "execution_count": 243,
   "metadata": {},
   "outputs": [
    {
     "data": {
      "text/plain": [
       "500"
      ]
     },
     "execution_count": 243,
     "metadata": {},
     "output_type": "execute_result"
    }
   ],
   "source": [
    "len(y_test)"
   ]
  },
  {
   "cell_type": "markdown",
   "metadata": {},
   "source": [
    "### "
   ]
  }
 ],
 "metadata": {
  "kernelspec": {
   "display_name": "Python 3",
   "language": "python",
   "name": "python3"
  },
  "language_info": {
   "codemirror_mode": {
    "name": "ipython",
    "version": 3
   },
   "file_extension": ".py",
   "mimetype": "text/x-python",
   "name": "python",
   "nbconvert_exporter": "python",
   "pygments_lexer": "ipython3",
   "version": "3.7.7"
  }
 },
 "nbformat": 4,
 "nbformat_minor": 4
}
